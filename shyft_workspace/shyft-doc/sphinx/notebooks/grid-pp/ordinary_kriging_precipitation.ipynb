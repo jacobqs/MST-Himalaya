{
 "cells": [
  {
   "cell_type": "markdown",
   "metadata": {
    "collapsed": true
   },
   "source": [
    "Grid post-processing of Met.no data using SHyFT API\n",
    "=========\n",
    "\n",
    "### This notebook gives an example of Met.no data post-processing to correct temperature forecasts based on comparison to observations. The following steps are described:\n",
    "1. **Loading required python modules and setting path to SHyFT installation**\n",
    "2. **Create synthetic data for observation time-series**\n",
    "3. **Create synthetic data for forecast time-series**\n",
    "4. **Calculate correction bias between observations and forecasts**\n",
    "5. **Apply bias correction to forecast time-series**\n",
    "6. **Plot the results**"
   ]
  },
  {
   "cell_type": "markdown",
   "metadata": {},
   "source": [
    "### 1. Loading required python modules and setting path to SHyFT installation"
   ]
  },
  {
   "cell_type": "code",
   "execution_count": 1,
   "metadata": {},
   "outputs": [
    {
     "name": "stdout",
     "output_type": "stream",
     "text": [
      "%pylab is deprecated, use %matplotlib inline and import the required libraries.\n",
      "Populating the interactive namespace from numpy and matplotlib\n"
     ]
    }
   ],
   "source": [
    "# First you should import the third-party python modules\n",
    "# The first line enables that figures are shown inline, directly in the notebook\n",
    "%pylab inline\n",
    "from matplotlib import pyplot as plt\n",
    "\n",
    "# If you want to use your own local build of shyft, you can set the path or the environment PYTHONPATH\n",
    "# import os, sys\n",
    "# from os import path\n",
    "# sys.path.insert(0, os.path.abspath(\"../../../shyft\"))"
   ]
  },
  {
   "cell_type": "code",
   "execution_count": 2,
   "metadata": {},
   "outputs": [],
   "source": [
    "# To import shyft, it is enough to activate the conda environment where shyft is installed\n",
    "\n",
    "from shyft.hydrology.repository.default_state_repository import DefaultStateRepository\n",
    "from shyft.hydrology.orchestration.configuration import yaml_configs\n",
    "from shyft.hydrology.orchestration.simulators.config_simulator import ConfigSimulator\n",
    "import shyft.hydrology as api\n",
    "import shyft.time_series as sts\n",
    "\n",
    "# If you have problems here, it may be related to having your LD_LIBRARY_PATH\n",
    "# pointing to the appropriate libboost_python libraries (.so files)"
   ]
  },
  {
   "cell_type": "code",
   "execution_count": 3,
   "metadata": {},
   "outputs": [],
   "source": [
    "# Now you can access the shyft api with tab completion and help, try this:\n",
    "# help(api.GeoPoint) # remove the hashtag and run the cell to print the documentation of the api.GeoPoint class\n",
    "# api. # remove the hashtag, set the pointer behind the dot and use tab completion to see the available attributes"
   ]
  },
  {
   "cell_type": "markdown",
   "metadata": {},
   "source": [
    "### 2. Create synthetic data for observation time-series"
   ]
  },
  {
   "cell_type": "code",
   "execution_count": 4,
   "metadata": {},
   "outputs": [],
   "source": [
    "# Create time-axis starting 01.01.2016, sampled every hour for 10 days long\n",
    "t0 = sts.Calendar().time(2016, 1, 1)\n",
    "ta = sts.TimeAxis(t0, sts.deltahours(1), 240)\n",
    "\n",
    "# Create a set of geo-locations at observation points (sparse set covering the forecast grid)\n",
    "obs_locs = api.GeoPointVector()\n",
    "obs_locs.append(api.GeoPoint( 100, 100,   10))\n",
    "obs_locs.append(api.GeoPoint(5100, 100,  250))\n",
    "obs_locs.append(api.GeoPoint( 100, 5100, 250))\n",
    "obs_locs.append(api.GeoPoint(5100, 5100, 500))\n",
    "\n",
    "# Create a set of time-series at observation points, having constant value\n",
    "obs_set = api.GeoPointSourceVector()\n",
    "for loc in obs_locs:\n",
    "    obs_set.append(api.GeoPointSource(loc, sts.TimeSeries(ta, fill_value=10,point_fx=sts.POINT_AVERAGE_VALUE)))\n",
    "\n",
    "# Create a set of geo-locations at forecast points (evenly spaced grid of 10 x 10 km)\n",
    "fc_locs = api.GeoPointVector()\n",
    "for x in range(10):\n",
    "    for y in range(10):\n",
    "        fc_locs.append(api.GeoPoint(x*1000, y*1000, (x+y)*50))\n",
    "\n",
    "# Spread the set of observations to forecast locations by ordinary Kriging\n",
    "obs_grid = api.ordinary_kriging(obs_set, fc_locs, ta.fixed_dt, api.OKParameter())"
   ]
  },
  {
   "cell_type": "code",
   "execution_count": 5,
   "metadata": {},
   "outputs": [],
   "source": [
    "# Define a function to calculate the deviation in percent\n",
    "def deviation(v1, v2):\n",
    "    d = abs(v1 - v2)\n",
    "    if v1:\n",
    "        d = 100 * abs(d / v1)\n",
    "    return d"
   ]
  },
  {
   "cell_type": "markdown",
   "metadata": {},
   "source": [
    "### 3. Create synthetic data for forecast time-series"
   ]
  },
  {
   "cell_type": "code",
   "execution_count": 6,
   "metadata": {},
   "outputs": [
    {
     "name": "stdout",
     "output_type": "stream",
     "text": [
      "The deviation of grid mapping is 0.01%\n"
     ]
    }
   ],
   "source": [
    "# Create an empty forecast grid\n",
    "fc_grid = api.PrecipitationSourceVector()\n",
    "\n",
    "# Create a synthetic bias time-serie\n",
    "bias_ts = sts.TimeSeries(ta, fill_value=1,point_fx=sts.POINT_AVERAGE_VALUE)\n",
    "\n",
    "# Create forecast time-series by adding the synthetic bias to the observation time-series\n",
    "for obs in obs_grid:\n",
    "    fc_grid.append(api.PrecipitationSource(obs.mid_point(), obs.ts + bias_ts))\n",
    "\n",
    "# Create a forecast set to observation locations by IDW transform\n",
    "fc_set = api.idw_precipitation(fc_grid, obs_locs, ta.fixed_dt, api.IDWPrecipitationParameter())\n",
    "\n",
    "# Check deviation of grid mapping vs observation locations\n",
    "d = deviation(fc_grid[0].ts.value(0), fc_set[0].ts.value(0))\n",
    "print('The deviation of grid mapping is {0:.2f}%'.format(d))"
   ]
  },
  {
   "cell_type": "markdown",
   "metadata": {},
   "source": [
    "### 4. Calculate correction bias between observations and forecasts"
   ]
  },
  {
   "cell_type": "code",
   "execution_count": 7,
   "metadata": {},
   "outputs": [
    {
     "name": "stdout",
     "output_type": "stream",
     "text": [
      "The correction factor at the first forecast location is 0.909\n"
     ]
    }
   ],
   "source": [
    "# Create an empty bias set\n",
    "bias_set = api.GeoPointSourceVector()\n",
    "\n",
    "# Calculate the bias as a correction factor between observation and forecast timeseries at observation locations\n",
    "for (obs, fc) in zip(obs_set, fc_set):\n",
    "    bias_set.append(api.GeoPointSource(obs.mid_point(), obs.ts / fc.ts))\n",
    "    \n",
    "# Spread the bias from observation locations to forecast locations by ordinary kriging\n",
    "bias_grid = api.ordinary_kriging(bias_set, fc_locs, ta.fixed_dt, api.OKParameter())\n",
    "\n",
    "print('The correction factor at the first forecast location is {0:.3f}'.format(bias_grid[0].ts.value(0)))"
   ]
  },
  {
   "cell_type": "markdown",
   "metadata": {},
   "source": [
    "### 5. Apply bias correction to forecast time-series"
   ]
  },
  {
   "cell_type": "code",
   "execution_count": 8,
   "metadata": {},
   "outputs": [
    {
     "name": "stdout",
     "output_type": "stream",
     "text": [
      "The deviation of corrected forecast is 0.01%\n"
     ]
    }
   ],
   "source": [
    "# Apply bias correction to forecast time-series at forecast locations\n",
    "for (fc, bias) in zip(fc_grid, bias_grid):\n",
    "    fc.ts = fc.ts * bias.ts\n",
    "\n",
    "# Transform corrected forecasts to observation locations by IDW transform\n",
    "fc_set = api.idw_precipitation(fc_grid, obs_locs, ta.fixed_dt, api.IDWPrecipitationParameter())\n",
    "\n",
    "# Check deviation of corrected forecast vs observation\n",
    "d = deviation(obs_set[0].ts.value(0), fc_set[0].ts.value(0))\n",
    "print('The deviation of corrected forecast is {0:.2f}%'.format(d))"
   ]
  },
  {
   "cell_type": "markdown",
   "metadata": {},
   "source": [
    "### 6. Plot the results"
   ]
  },
  {
   "cell_type": "code",
   "execution_count": 9,
   "metadata": {},
   "outputs": [
    {
     "data": {
      "text/plain": [
       "Text(0, 0.5, 'Precipitation')"
      ]
     },
     "execution_count": 9,
     "metadata": {},
     "output_type": "execute_result"
    },
    {
     "data": {
      "image/png": "[encoded data removed]",
      "text/plain": [
       "<Figure size 1440x720 with 1 Axes>"
      ]
     },
     "metadata": {
      "needs_background": "light"
     },
     "output_type": "display_data"
    }
   ],
   "source": [
    "# Make a plot of time-series\n",
    "fig, ax = plt.subplots(figsize=(20, 10))\n",
    "for i in range(len(bias_set)):\n",
    "    timestamps = [datetime.datetime.utcfromtimestamp(p) for p in obs_set[i].ts.time_axis.time_points][:-1]\n",
    "    ax.plot(timestamps, obs_set[i].ts.values, label = str(i+1) + ' Observation')\n",
    "    ax.plot(timestamps, fc_set[i].ts.values, label = str(i+1) + ' Forecast')\n",
    "    ax.plot(timestamps, bias_set[i].ts.values, label = str(i+1) + ' Bias')\n",
    "fig.autofmt_xdate()\n",
    "ax.legend(title='Precipitation')\n",
    "ax.set_ylabel('Precipitation')"
   ]
  },
  {
   "cell_type": "code",
   "execution_count": 10,
   "metadata": {},
   "outputs": [
    {
     "data": {
      "image/png": "[encoded data removed]",
      "text/plain": [
       "<Figure size 720x360 with 2 Axes>"
      ]
     },
     "metadata": {
      "needs_background": "light"
     },
     "output_type": "display_data"
    }
   ],
   "source": [
    "# Make a scatter plot of grid forecasts at ts.value(0)\n",
    "x = [fc.mid_point().x for fc in fc_grid]\n",
    "y = [fc.mid_point().y for fc in fc_grid]\n",
    "fig, ax = plt.subplots(figsize=(10, 5))\n",
    "vals = np.array([fc.ts.value(0) for fc in fc_grid])\n",
    "v120 = max(vals) * 1.2 # Set color scale to 120% of max value\n",
    "plot = ax.scatter(x, y, c=vals, marker='s', vmin=0, vmax=v120, s=500, lw=0)\n",
    "plt.colorbar(plot).set_label('Forecast')"
   ]
  },
  {
   "cell_type": "code",
   "execution_count": 11,
   "metadata": {},
   "outputs": [
    {
     "data": {
      "text/plain": [
       "<matplotlib.collections.PathCollection at 0x7f9eaafad720>"
      ]
     },
     "execution_count": 11,
     "metadata": {},
     "output_type": "execute_result"
    },
    {
     "data": {
      "image/png": "[encoded data removed]",
      "text/plain": [
       "<Figure size 1080x360 with 2 Axes>"
      ]
     },
     "metadata": {
      "needs_background": "light"
     },
     "output_type": "display_data"
    }
   ],
   "source": [
    "fig, (ax1, ax2) = plt.subplots(1, 2, sharey=True, figsize=(15,5))\n",
    "vals = np.array([obs.ts.value(0) for obs in obs_grid])\n",
    "ax1.scatter(x, y, c=vals, marker='s', vmin=0, vmax=v120, s=500, lw=0)\n",
    "vals = np.array([bias.ts.value(0) for bias in bias_grid])\n",
    "ax2.scatter(x, y, c=vals, marker='s', vmin=0, vmax=v120, s=500, lw=0)\n",
    "#plt.colorbar(plot).set_label('Observations vs. bias')"
   ]
  },
  {
   "cell_type": "code",
   "execution_count": null,
   "metadata": {},
   "outputs": [],
   "source": []
  }
 ],
 "metadata": {
  "anaconda-cloud": {},
  "kernelspec": {
   "display_name": "Python 3 (ipykernel)",
   "language": "python",
   "name": "python3"
  },
  "language_info": {
   "codemirror_mode": {
    "name": "ipython",
    "version": 3
   },
   "file_extension": ".py",
   "mimetype": "text/x-python",
   "name": "python",
   "nbconvert_exporter": "python",
   "pygments_lexer": "ipython3",
   "version": "3.10.7"
  }
 },
 "nbformat": 4,
 "nbformat_minor": 1
}
