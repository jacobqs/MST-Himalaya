{
 "cells": [
  {
   "cell_type": "markdown",
   "metadata": {},
   "source": [
    "1 Loading data from NetCDF"
   ]
  },
  {
   "cell_type": "code",
   "execution_count": 13,
   "metadata": {},
   "outputs": [],
   "source": [
    "import xarray as xr\n",
    "import glob "
   ]
  },
  {
   "cell_type": "code",
   "execution_count": 38,
   "metadata": {},
   "outputs": [],
   "source": [
    "# Specifying paths and list all filenames\n",
    "path = 'Data/Input/Master_Copies/Hydromet/WATCH_WFDEI_ISIMIP_1901_2016_v0.0/'\n",
    "\n",
    "tas_dir = glob.glob(path + 'Surface_air_temperature_avg/*.nc4')\n",
    "tas_max_dir = glob.glob(path + 'Surface_air_temperature_max/*.nc4')\n",
    "tas_min_dir = glob.glob(path + 'Surface_air_temperature_min/*.nc4')\n",
    "rsds_dir = glob.glob(path + 'Surface_radiation_shortwave_downwelling/*.nc4')\n",
    "pr_dir = glob.glob(path + 'Precipitation/*.nc4')\n",
    "wind_dir = glob.glob(path + 'Wind/*.nc4')\n",
    "\n",
    "# Importing multiple NetCDF files\n",
    "\n",
    "tas = xr.open_mfdataset(tas_dir) #Surface temperature (average)\n",
    "tas_max = xr.open_mfdataset(tas_max_dir) #Surface temperature (max)\n",
    "tas_min = xr.open_mfdataset(tas_min_dir) #Surface temperature (min)\n",
    "rsds = xr.open_mfdataset(rsds_dir) # Relative humidity \n",
    "pr = xr.open_mfdataset(pr_dir) # Precipitation\n",
    "wind = xr.open_mfdataset(wind_dir) #Wind\n"
   ]
  },
  {
   "cell_type": "markdown",
   "metadata": {},
   "source": [
    "2 Exploring data"
   ]
  },
  {
   "cell_type": "code",
   "execution_count": 10,
   "metadata": {},
   "outputs": [],
   "source": []
  },
  {
   "cell_type": "code",
   "execution_count": null,
   "metadata": {},
   "outputs": [],
   "source": []
  }
 ],
 "metadata": {
  "interpreter": {
   "hash": "831b1e12b54c1ff73ac9f45e5c09cfbb42209f7870334bf75877d041a50f3928"
  },
  "kernelspec": {
   "display_name": "Python 3.10.0 64-bit",
   "language": "python",
   "name": "python3"
  },
  "language_info": {
   "codemirror_mode": {
    "name": "ipython",
    "version": 3
   },
   "file_extension": ".py",
   "mimetype": "text/x-python",
   "name": "python",
   "nbconvert_exporter": "python",
   "pygments_lexer": "ipython3",
   "version": "3.9.7"
  },
  "orig_nbformat": 4
 },
 "nbformat": 4,
 "nbformat_minor": 2
}
