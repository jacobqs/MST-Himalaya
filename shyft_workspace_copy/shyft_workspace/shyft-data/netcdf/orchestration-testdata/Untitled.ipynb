{
 "cells": [
  {
   "cell_type": "code",
   "execution_count": 34,
   "id": "29f4af4e",
   "metadata": {},
   "outputs": [],
   "source": [
    "import xarray as xr\n",
    "import numpy as np"
   ]
  },
  {
   "cell_type": "code",
   "execution_count": 37,
   "id": "982d9768",
   "metadata": {},
   "outputs": [],
   "source": [
    "t = xr.open_mfdataset('temperature.nc')\n",
    "t_df = t.to_dataframe()"
   ]
  },
  {
   "cell_type": "code",
   "execution_count": 10,
   "id": "54007428",
   "metadata": {},
   "outputs": [],
   "source": [
    "p = xr.open_mfdataset('precipitation.nc')"
   ]
  },
  {
   "cell_type": "code",
   "execution_count": 26,
   "id": "61797498",
   "metadata": {},
   "outputs": [
    {
     "data": {
      "text/plain": [
       "array([[0., 0., 0., ..., 0., 0., 0.],\n",
       "       [0., 0., 0., ..., 0., 0., 0.],\n",
       "       [0., 0., 0., ..., 0., 0., 0.],\n",
       "       ...,\n",
       "       [0., 0., 0., ..., 0., 0., 0.],\n",
       "       [0., 0., 0., ..., 0., 0., 0.],\n",
       "       [0., 0., 0., ..., 0., 0., 0.]])"
      ]
     },
     "execution_count": 26,
     "metadata": {},
     "output_type": "execute_result"
    }
   ],
   "source": [
    "p.precipitation.values"
   ]
  },
  {
   "cell_type": "code",
   "execution_count": 12,
   "id": "3f368aaa",
   "metadata": {},
   "outputs": [],
   "source": [
    "rel_hum = xr.open_mfdataset('relative_humidity.nc')"
   ]
  },
  {
   "cell_type": "code",
   "execution_count": 14,
   "id": "0250240f",
   "metadata": {},
   "outputs": [
    {
     "data": {
      "text/plain": [
       "array([[0.98179871, 0.97324455, 0.96136212, ..., 0.32149684, 0.29406649,\n",
       "        0.34266466],\n",
       "       [0.98044366, 0.9740575 , 0.96530521, ..., 0.32755858, 0.29211652,\n",
       "        0.33950669],\n",
       "       [0.96670586, 0.96022373, 0.95018935, ..., 0.36022612, 0.29112512,\n",
       "        0.31717944],\n",
       "       ...,\n",
       "       [0.94528496, 0.95571285, 0.96315885, ..., 0.30854172, 0.24336775,\n",
       "        0.21006376],\n",
       "       [0.9438054 , 0.93615538, 0.95095032, ..., 0.26934421, 0.21466783,\n",
       "        0.18350323],\n",
       "       [0.94540215, 0.9364298 , 0.95676845, ..., 0.27180812, 0.20301874,\n",
       "        0.16666947]])"
      ]
     },
     "execution_count": 14,
     "metadata": {},
     "output_type": "execute_result"
    }
   ],
   "source": [
    "rel_hum.relative_humidity.values"
   ]
  },
  {
   "cell_type": "code",
   "execution_count": 15,
   "id": "f739cbb8",
   "metadata": {},
   "outputs": [],
   "source": [
    "wind_speed =  xr.open_mfdataset('wind_speed.nc')"
   ]
  },
  {
   "cell_type": "code",
   "execution_count": 28,
   "id": "e7c32ef1",
   "metadata": {},
   "outputs": [
    {
     "data": {
      "text/plain": [
       "array([[1.86200941, 1.88687003, 1.85235167, ..., 2.07917547, 2.84948754,\n",
       "        2.4889133 ],\n",
       "       [1.89076352, 1.90472603, 1.83580029, ..., 2.06559086, 2.88156915,\n",
       "        2.59228516],\n",
       "       [2.40567827, 2.53326917, 2.52224016, ..., 1.54751921, 1.79607666,\n",
       "        1.89489043],\n",
       "       ...,\n",
       "       [2.60868907, 2.65035725, 2.52199125, ..., 0.60299808, 0.57838118,\n",
       "        0.64265072],\n",
       "       [2.35759854, 2.29862165, 2.1454525 , ..., 0.65515471, 0.81338978,\n",
       "        0.66958487],\n",
       "       [1.89428174, 1.7510196 , 1.86177754, ..., 0.87172973, 1.04955781,\n",
       "        0.86811024]])"
      ]
     },
     "execution_count": 28,
     "metadata": {},
     "output_type": "execute_result"
    }
   ],
   "source": [
    "wind_speed.wind_speed.values"
   ]
  },
  {
   "cell_type": "code",
   "execution_count": 19,
   "id": "dbd9f55c",
   "metadata": {},
   "outputs": [],
   "source": [
    "discharge =  xr.open_mfdataset('discharge.nc')"
   ]
  },
  {
   "cell_type": "code",
   "execution_count": 24,
   "id": "d0bf5f92",
   "metadata": {},
   "outputs": [
    {
     "data": {
      "text/plain": [
       "array([[39.1],\n",
       "       [39.1],\n",
       "       [38.5],\n",
       "       ...,\n",
       "       [27.3],\n",
       "       [27.2],\n",
       "       [27. ]])"
      ]
     },
     "execution_count": 24,
     "metadata": {},
     "output_type": "execute_result"
    }
   ],
   "source": [
    "discharge.discharge.values"
   ]
  },
  {
   "cell_type": "code",
   "execution_count": 21,
   "id": "40208c14",
   "metadata": {},
   "outputs": [],
   "source": [
    " rad = xr.open_mfdataset('radiation.nc')"
   ]
  },
  {
   "cell_type": "code",
   "execution_count": 23,
   "id": "8e52c868",
   "metadata": {},
   "outputs": [
    {
     "data": {
      "text/plain": [
       "array([[  0.        ,   0.        ,   0.        , ...,   0.        ,\n",
       "          0.        ,   0.        ],\n",
       "       [ 27.26109123,  30.60818291,  34.25575256, ...,  48.55455017,\n",
       "         53.35248947,  58.37289429],\n",
       "       [184.79676819, 191.83575439, 199.74168396, ..., 249.40176392,\n",
       "        256.53869629, 263.26556396],\n",
       "       ...,\n",
       "       [  0.        ,   0.        ,   0.        , ...,   0.        ,\n",
       "          0.        ,   0.        ],\n",
       "       [  0.        ,   0.        ,   0.        , ...,   0.        ,\n",
       "          0.        ,   0.        ],\n",
       "       [  0.        ,   0.        ,   0.        , ...,   0.        ,\n",
       "          0.        ,   0.        ]])"
      ]
     },
     "execution_count": 23,
     "metadata": {},
     "output_type": "execute_result"
    }
   ],
   "source": [
    "rad.global_radiation.values"
   ]
  },
  {
   "cell_type": "code",
   "execution_count": null,
   "id": "3a2fa4f4",
   "metadata": {},
   "outputs": [],
   "source": []
  }
 ],
 "metadata": {
  "kernelspec": {
   "display_name": "Python 3 (ipykernel)",
   "language": "python",
   "name": "python3"
  },
  "language_info": {
   "codemirror_mode": {
    "name": "ipython",
    "version": 3
   },
   "file_extension": ".py",
   "mimetype": "text/x-python",
   "name": "python",
   "nbconvert_exporter": "python",
   "pygments_lexer": "ipython3",
   "version": "3.10.9"
  }
 },
 "nbformat": 4,
 "nbformat_minor": 5
}
