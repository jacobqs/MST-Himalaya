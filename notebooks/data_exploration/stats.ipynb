{
 "cells": [
  {
   "cell_type": "code",
   "execution_count": 75,
   "metadata": {},
   "outputs": [],
   "source": [
    "# Import packages for data analysis\n",
    "import numpy as np   \n",
    "import pandas as pd\n",
    "import xarray as xr\n",
    "import matplotlib.pyplot as plt\n",
    "import seaborn as sns\n",
    "import os   \n",
    "from utils_exploration import GeoTsObject\n",
    "import plotly.express as px\n",
    "import plotly.graph_objects as go\n",
    "import plotly as py\n",
    "import statsmodels.api as sm\n",
    "from metpy.calc import relative_humidity_from_specific_humidity\n",
    "from metpy.units import units\n"
   ]
  },
  {
   "cell_type": "code",
   "execution_count": 2,
   "metadata": {},
   "outputs": [],
   "source": [
    "geo_ts = GeoTsObject()"
   ]
  },
  {
   "cell_type": "code",
   "execution_count": 142,
   "metadata": {},
   "outputs": [],
   "source": [
    "tair_ds = xr.open_mfdataset(geo_ts.tair_path)\n",
    "rainf_ds = xr.open_mfdataset(geo_ts.rainf_path)\n",
    "snowf_ds = xr.open_mfdataset(geo_ts.snowf_path)\n",
    "qair_ds = xr.open_mfdataset(geo_ts.qair_path)\n",
    "swdown_ds = xr.open_mfdataset(geo_ts.swdown_path)\n",
    "psurf_ds = xr.open_mfdataset(geo_ts.psurf_path)\n",
    "wind_ds = xr.open_mfdataset(geo_ts.wind_path)"
   ]
  },
  {
   "cell_type": "code",
   "execution_count": 4,
   "metadata": {},
   "outputs": [],
   "source": [
    "min_lon = 84\n",
    "max_lon = 88\n",
    "min_lat = 27\n",
    "max_lat = 29"
   ]
  },
  {
   "cell_type": "code",
   "execution_count": 5,
   "metadata": {},
   "outputs": [],
   "source": [
    "# Subset the data to the region of interest\n",
    "def subset(ds, min_lon, max_lon, min_lat, max_lat):\n",
    "    ds = ds.sel(lon=slice(min_lon, max_lon), lat=slice(min_lat, max_lat))\n",
    "    return ds"
   ]
  },
  {
   "cell_type": "code",
   "execution_count": 143,
   "metadata": {},
   "outputs": [],
   "source": [
    "tair_subset = subset(tair_ds, min_lon, max_lon, min_lat, max_lat)\n",
    "rainf_subset = subset(rainf_ds, min_lon, max_lon, min_lat, max_lat)\n",
    "snowf_subset = subset(snowf_ds, min_lon, max_lon, min_lat, max_lat)\n",
    "qair_subset = subset(qair_ds, min_lon, max_lon, min_lat, max_lat)\n",
    "swdown_subset = subset(swdown_ds, min_lon, max_lon, min_lat, max_lat)\n",
    "psurf_subset = subset(psurf_ds, min_lon, max_lon, min_lat, max_lat)\n",
    "wind_subset = subset(wind_ds, min_lon, max_lon, min_lat, max_lat)\n"
   ]
  },
  {
   "cell_type": "code",
   "execution_count": 56,
   "metadata": {},
   "outputs": [],
   "source": [
    "# Make a new dataset for precipitation which is the sum of rain and snow times 3600 to convert to mm/hr\n",
    "# Assign the new variable precip and add it to the dataset, give the units of mm/hr\n",
    "def precip_ds(rainf, snowf):\n",
    "    precip = rainf.Rainf + snowf.Snowf\n",
    "    precip = precip * 3600\n",
    "    precip.attrs['units'] = 'mm/hr'\n",
    "    return precip"
   ]
  },
  {
   "cell_type": "code",
   "execution_count": 57,
   "metadata": {},
   "outputs": [],
   "source": [
    "precip_subset = precip_ds(rainf_subset, snowf_subset)"
   ]
  },
  {
   "cell_type": "code",
   "execution_count": 61,
   "metadata": {},
   "outputs": [],
   "source": [
    "# Convert temperature dataset to temperature in degrees Celsius and give the units of degC\n",
    "def degc_ds(tair):\n",
    "    degc = tair.Tair - 273.15\n",
    "    degc.attrs['units'] = 'degC'\n",
    "    return degc"
   ]
  },
  {
   "cell_type": "code",
   "execution_count": 141,
   "metadata": {},
   "outputs": [],
   "source": [
    "temp_subset = degc_ds(tair_subset)"
   ]
  },
  {
   "cell_type": "code",
   "execution_count": 145,
   "metadata": {},
   "outputs": [],
   "source": [
    "# Convert snowfall dataset to snowfall in mm/hr and give the units of mm/hr\n",
    "def snowf_hour(snowf):\n",
    "    snowf = snowf.Snowf * 3600\n",
    "    snowf.attrs['units'] = 'mm/hr'\n",
    "    return snowf"
   ]
  },
  {
   "cell_type": "code",
   "execution_count": 146,
   "metadata": {},
   "outputs": [],
   "source": [
    "snowf_subset = snowf_hour(snowf_subset)"
   ]
  },
  {
   "cell_type": "code",
   "execution_count": 147,
   "metadata": {},
   "outputs": [],
   "source": [
    "# Convert rainfall dataset to rainfall in mm/hr and give the units of mm/hr\n",
    "def rainf_hour(rainf):\n",
    "    rainf = rainf.Rainf * 3600\n",
    "    rainf.attrs['units'] = 'mm/hr'\n",
    "    return rainf"
   ]
  },
  {
   "cell_type": "code",
   "execution_count": 148,
   "metadata": {},
   "outputs": [],
   "source": [
    "rainf_subset = rainf_hour(rainf_subset)"
   ]
  },
  {
   "cell_type": "code",
   "execution_count": 64,
   "metadata": {},
   "outputs": [],
   "source": [
    "# Make a new dataset where presure is converted to hPa and give the units of hPa\n",
    "\n",
    "def hpa_ds(psurf):\n",
    "    hpa = psurf.PSurf / 100\n",
    "    hpa.attrs['units'] = 'hPa'\n",
    "    return hpa"
   ]
  },
  {
   "cell_type": "code",
   "execution_count": 65,
   "metadata": {},
   "outputs": [],
   "source": [
    "hpa_subset = hpa_ds(psurf_subset)"
   ]
  },
  {
   "cell_type": "code",
   "execution_count": 89,
   "metadata": {},
   "outputs": [],
   "source": [
    "# Make a new dataset where specific humidity is converted to relative humidity and give the units of %\n",
    "# Use the MetPy function to calculate relative humidity\n",
    "\n",
    "def rel_hum_ds(psurf, temp, qair):\n",
    "    rh = relative_humidity_from_specific_humidity(psurf.values * units.hPa, temp.values * units.degC, qair.Qair.values).to('percent').magnitude\n",
    "    rh = rh * 0.01\n",
    "    return rh"
   ]
  },
  {
   "cell_type": "code",
   "execution_count": 90,
   "metadata": {},
   "outputs": [],
   "source": [
    "rel_hum = rel_hum_ds(hpa_subset, temp_subset, qair_subset)"
   ]
  },
  {
   "cell_type": "code",
   "execution_count": 144,
   "metadata": {},
   "outputs": [],
   "source": [
    "rel_hum_subset = xr.Dataset({'RH': (['time', 'lat', 'lon'], rel_hum)}, \n",
    "                        coords={'time': tair_subset.time, 'lat': tair_subset.lat, 'lon': tair_subset.lon})"
   ]
  },
  {
   "cell_type": "code",
   "execution_count": 9,
   "metadata": {},
   "outputs": [],
   "source": [
    "# Make a make map plot of the temperature data with mean temperature for each grid cell\n",
    "def mean_plot(ds):\n",
    "    ds.mean(dim='time').plot()\n",
    "    plt.show()"
   ]
  },
  {
   "cell_type": "code",
   "execution_count": 106,
   "metadata": {},
   "outputs": [],
   "source": [
    "# Make a snow depth dataset where the snowpack resets to 0 at October 1st and \n",
    "# the snowpack accumulates until September 30th next year\n",
    "# Each year the snowpack accumulates from October 1st to September 30th of the next year before resetting to 0\n",
    "\n",
    "def snowpack_ds(snowf):\n",
    "    snowpack = snowf.Snowf\n",
    "    snowpack = snowpack * 3600\n",
    "    snowpack = snowpack.resample(time='AS-OCT').sum(dim='time')\n",
    "    return snowpack"
   ]
  },
  {
   "cell_type": "code",
   "execution_count": 107,
   "metadata": {},
   "outputs": [],
   "source": [
    "snowpack_ds = snowpack_ds(snowf_subset)"
   ]
  },
  {
   "cell_type": "code",
   "execution_count": 108,
   "metadata": {},
   "outputs": [
    {
     "data": {
      "text/plain": [
       "<matplotlib.collections.QuadMesh at 0x18bf955d0>"
      ]
     },
     "execution_count": 108,
     "metadata": {},
     "output_type": "execute_result"
    },
    {
     "data": {
      "image/png": "[encoded data removed]",
      "text/plain": [
       "<Figure size 640x480 with 2 Axes>"
      ]
     },
     "metadata": {},
     "output_type": "display_data"
    }
   ],
   "source": [
    "snowpack_ds.isel(time=0).plot()"
   ]
  },
  {
   "cell_type": "code",
   "execution_count": 109,
   "metadata": {},
   "outputs": [],
   "source": [
    "# Make a timeseries  plot of the snowpack data for the region of interest\n",
    "def snowpack_plot(ds):\n",
    "    ds.mean(dim=['lat', 'lon']).plot()\n",
    "    plt.show()"
   ]
  },
  {
   "cell_type": "code",
   "execution_count": 111,
   "metadata": {},
   "outputs": [
    {
     "data": {
      "image/png": "[encoded data removed]",
      "text/plain": [
       "<Figure size 640x480 with 1 Axes>"
      ]
     },
     "metadata": {},
     "output_type": "display_data"
    }
   ],
   "source": [
    "snowpack_plot(snowpack_ds[:-2])"
   ]
  },
  {
   "cell_type": "code",
   "execution_count": 10,
   "metadata": {},
   "outputs": [
    {
     "data": {
      "image/png": "[encoded data removed]",
      "text/plain": [
       "<Figure size 640x480 with 2 Axes>"
      ]
     },
     "metadata": {},
     "output_type": "display_data"
    }
   ],
   "source": [
    "mean_plot(temp_ds)"
   ]
  },
  {
   "cell_type": "code",
   "execution_count": 11,
   "metadata": {},
   "outputs": [],
   "source": [
    "# Make a histogram of the dataset\n",
    "def hist(ds, bins = 50):\n",
    "    ds.plot.hist(bins=bins)\n",
    "    plt.show()"
   ]
  },
  {
   "cell_type": "code",
   "execution_count": 12,
   "metadata": {},
   "outputs": [
    {
     "data": {
      "image/png": "[encoded data removed]",
      "text/plain": [
       "<Figure size 640x480 with 1 Axes>"
      ]
     },
     "metadata": {},
     "output_type": "display_data"
    }
   ],
   "source": [
    "hist(temp_ds)"
   ]
  },
  {
   "cell_type": "code",
   "execution_count": 13,
   "metadata": {},
   "outputs": [],
   "source": [
    "# Get mean dataset over time\n",
    "def mean_dataset(ds):\n",
    "    return ds.mean(dim='time')"
   ]
  },
  {
   "cell_type": "code",
   "execution_count": 16,
   "metadata": {},
   "outputs": [],
   "source": [
    "temp_ds_mean = mean_dataset(temp_ds)"
   ]
  },
  {
   "cell_type": "code",
   "execution_count": 17,
   "metadata": {},
   "outputs": [],
   "source": [
    "# Get timeseries from a specific grid cell\n",
    "def get_timeseries_point(ds, lon, lat):\n",
    "    return ds.sel(lon=lon, lat=lat)"
   ]
  },
  {
   "cell_type": "code",
   "execution_count": 18,
   "metadata": {},
   "outputs": [],
   "source": [
    "# Get mean timeseries from the whole region\n",
    "def get_mean_timeseries(ds):\n",
    "    return ds.mean(dim=['lon', 'lat'])"
   ]
  },
  {
   "cell_type": "code",
   "execution_count": 19,
   "metadata": {},
   "outputs": [],
   "source": [
    "temp_mean_timeseries = get_mean_timeseries(temp_ds)"
   ]
  },
  {
   "cell_type": "code",
   "execution_count": 26,
   "metadata": {},
   "outputs": [],
   "source": [
    "# Resample the timeseries to monthly data\n",
    "def resample_monthly(ds):\n",
    "    return ds.resample(time='M').mean()"
   ]
  },
  {
   "cell_type": "code",
   "execution_count": 34,
   "metadata": {},
   "outputs": [],
   "source": [
    "monthly_mean_temp = resample_monthly(temp_mean_timeseries)"
   ]
  },
  {
   "cell_type": "code",
   "execution_count": 28,
   "metadata": {},
   "outputs": [],
   "source": [
    "# Plot timeseries with an interactive date range slider from plotly\n",
    "def plot_timeseries(ds):\n",
    "    fig = px.line(ds, x=ds.time, y=ds.values)\n",
    "    fig.show()"
   ]
  },
  {
   "cell_type": "code",
   "execution_count": 30,
   "metadata": {},
   "outputs": [
    {
     "data": {
      "application/vnd.plotly.v1+json": {
       "config": {
        "plotlyServerURL": "https://plot.ly"
       },
       "data": [
        {
         "hovertemplate": "x=%{x}<br>y=%{y}<extra></extra>",
         "legendgroup": "",
         "line": {
          "color": "#636efa",
          "dash": "solid"
         },
         "marker": {
          "symbol": "circle"
         },
         "mode": "lines",
         "name": "",
         "orientation": "v",
         "showlegend": false,
         "type": "scatter",
         "x": [
          "1990-01-31T00:00:00",
          "1990-02-28T00:00:00",
          "1990-03-31T00:00:00",
          "1990-04-30T00:00:00",
          "1990-05-31T00:00:00",
          "1990-06-30T00:00:00",
          "1990-07-31T00:00:00",
          "1990-08-31T00:00:00",
          "1990-09-30T00:00:00",
          "1990-10-31T00:00:00",
          "1990-11-30T00:00:00",
          "1990-12-31T00:00:00",
          "1991-01-31T00:00:00",
          "1991-02-28T00:00:00",
          "1991-03-31T00:00:00",
          "1991-04-30T00:00:00",
          "1991-05-31T00:00:00",
          "1991-06-30T00:00:00",
          "1991-07-31T00:00:00",
          "1991-08-31T00:00:00",
          "1991-09-30T00:00:00",
          "1991-10-31T00:00:00",
          "1991-11-30T00:00:00",
          "1991-12-31T00:00:00",
          "1992-01-31T00:00:00",
          "1992-02-29T00:00:00",
          "1992-03-31T00:00:00",
          "1992-04-30T00:00:00",
          "1992-05-31T00:00:00",
          "1992-06-30T00:00:00",
          "1992-07-31T00:00:00",
          "1992-08-31T00:00:00",
          "1992-09-30T00:00:00",
          "1992-10-31T00:00:00",
          "1992-11-30T00:00:00",
          "1992-12-31T00:00:00",
          "1993-01-31T00:00:00",
          "1993-02-28T00:00:00",
          "1993-03-31T00:00:00",
          "1993-04-30T00:00:00",
          "1993-05-31T00:00:00",
          "1993-06-30T00:00:00",
          "1993-07-31T00:00:00",
          "1993-08-31T00:00:00",
          "1993-09-30T00:00:00",
          "1993-10-31T00:00:00",
          "1993-11-30T00:00:00",
          "1993-12-31T00:00:00",
          "1994-01-31T00:00:00",
          "1994-02-28T00:00:00",
          "1994-03-31T00:00:00",
          "1994-04-30T00:00:00",
          "1994-05-31T00:00:00",
          "1994-06-30T00:00:00",
          "1994-07-31T00:00:00",
          "1994-08-31T00:00:00",
          "1994-09-30T00:00:00",
          "1994-10-31T00:00:00",
          "1994-11-30T00:00:00",
          "1994-12-31T00:00:00",
          "1995-01-31T00:00:00",
          "1995-02-28T00:00:00",
          "1995-03-31T00:00:00",
          "1995-04-30T00:00:00",
          "1995-05-31T00:00:00",
          "1995-06-30T00:00:00",
          "1995-07-31T00:00:00",
          "1995-08-31T00:00:00",
          "1995-09-30T00:00:00",
          "1995-10-31T00:00:00",
          "1995-11-30T00:00:00",
          "1995-12-31T00:00:00",
          "1996-01-31T00:00:00",
          "1996-02-29T00:00:00",
          "1996-03-31T00:00:00",
          "1996-04-30T00:00:00",
          "1996-05-31T00:00:00",
          "1996-06-30T00:00:00",
          "1996-07-31T00:00:00",
          "1996-08-31T00:00:00",
          "1996-09-30T00:00:00",
          "1996-10-31T00:00:00",
          "1996-11-30T00:00:00",
          "1996-12-31T00:00:00",
          "1997-01-31T00:00:00",
          "1997-02-28T00:00:00",
          "1997-03-31T00:00:00",
          "1997-04-30T00:00:00",
          "1997-05-31T00:00:00",
          "1997-06-30T00:00:00",
          "1997-07-31T00:00:00",
          "1997-08-31T00:00:00",
          "1997-09-30T00:00:00",
          "1997-10-31T00:00:00",
          "1997-11-30T00:00:00",
          "1997-12-31T00:00:00",
          "1998-01-31T00:00:00",
          "1998-02-28T00:00:00",
          "1998-03-31T00:00:00",
          "1998-04-30T00:00:00",
          "1998-05-31T00:00:00",
          "1998-06-30T00:00:00",
          "1998-07-31T00:00:00",
          "1998-08-31T00:00:00",
          "1998-09-30T00:00:00",
          "1998-10-31T00:00:00",
          "1998-11-30T00:00:00",
          "1998-12-31T00:00:00",
          "1999-01-31T00:00:00",
          "1999-02-28T00:00:00",
          "1999-03-31T00:00:00",
          "1999-04-30T00:00:00",
          "1999-05-31T00:00:00",
          "1999-06-30T00:00:00",
          "1999-07-31T00:00:00",
          "1999-08-31T00:00:00",
          "1999-09-30T00:00:00",
          "1999-10-31T00:00:00",
          "1999-11-30T00:00:00",
          "1999-12-31T00:00:00",
          "2000-01-31T00:00:00",
          "2000-02-29T00:00:00",
          "2000-03-31T00:00:00",
          "2000-04-30T00:00:00",
          "2000-05-31T00:00:00",
          "2000-06-30T00:00:00",
          "2000-07-31T00:00:00",
          "2000-08-31T00:00:00",
          "2000-09-30T00:00:00",
          "2000-10-31T00:00:00",
          "2000-11-30T00:00:00",
          "2000-12-31T00:00:00",
          "2001-01-31T00:00:00",
          "2001-02-28T00:00:00",
          "2001-03-31T00:00:00",
          "2001-04-30T00:00:00",
          "2001-05-31T00:00:00",
          "2001-06-30T00:00:00",
          "2001-07-31T00:00:00",
          "2001-08-31T00:00:00",
          "2001-09-30T00:00:00",
          "2001-10-31T00:00:00",
          "2001-11-30T00:00:00",
          "2001-12-31T00:00:00",
          "2002-01-31T00:00:00",
          "2002-02-28T00:00:00",
          "2002-03-31T00:00:00",
          "2002-04-30T00:00:00",
          "2002-05-31T00:00:00",
          "2002-06-30T00:00:00",
          "2002-07-31T00:00:00",
          "2002-08-31T00:00:00",
          "2002-09-30T00:00:00",
          "2002-10-31T00:00:00",
          "2002-11-30T00:00:00",
          "2002-12-31T00:00:00",
          "2003-01-31T00:00:00",
          "2003-02-28T00:00:00",
          "2003-03-31T00:00:00",
          "2003-04-30T00:00:00",
          "2003-05-31T00:00:00",
          "2003-06-30T00:00:00",
          "2003-07-31T00:00:00",
          "2003-08-31T00:00:00",
          "2003-09-30T00:00:00",
          "2003-10-31T00:00:00",
          "2003-11-30T00:00:00",
          "2003-12-31T00:00:00",
          "2004-01-31T00:00:00",
          "2004-02-29T00:00:00",
          "2004-03-31T00:00:00",
          "2004-04-30T00:00:00",
          "2004-05-31T00:00:00",
          "2004-06-30T00:00:00",
          "2004-07-31T00:00:00",
          "2004-08-31T00:00:00",
          "2004-09-30T00:00:00",
          "2004-10-31T00:00:00",
          "2004-11-30T00:00:00",
          "2004-12-31T00:00:00",
          "2005-01-31T00:00:00",
          "2005-02-28T00:00:00",
          "2005-03-31T00:00:00",
          "2005-04-30T00:00:00",
          "2005-05-31T00:00:00",
          "2005-06-30T00:00:00",
          "2005-07-31T00:00:00",
          "2005-08-31T00:00:00",
          "2005-09-30T00:00:00",
          "2005-10-31T00:00:00",
          "2005-11-30T00:00:00",
          "2005-12-31T00:00:00",
          "2006-01-31T00:00:00",
          "2006-02-28T00:00:00",
          "2006-03-31T00:00:00",
          "2006-04-30T00:00:00",
          "2006-05-31T00:00:00",
          "2006-06-30T00:00:00",
          "2006-07-31T00:00:00",
          "2006-08-31T00:00:00",
          "2006-09-30T00:00:00",
          "2006-10-31T00:00:00",
          "2006-11-30T00:00:00",
          "2006-12-31T00:00:00",
          "2007-01-31T00:00:00",
          "2007-02-28T00:00:00",
          "2007-03-31T00:00:00",
          "2007-04-30T00:00:00",
          "2007-05-31T00:00:00",
          "2007-06-30T00:00:00",
          "2007-07-31T00:00:00",
          "2007-08-31T00:00:00",
          "2007-09-30T00:00:00",
          "2007-10-31T00:00:00",
          "2007-11-30T00:00:00",
          "2007-12-31T00:00:00",
          "2008-01-31T00:00:00",
          "2008-02-29T00:00:00",
          "2008-03-31T00:00:00",
          "2008-04-30T00:00:00",
          "2008-05-31T00:00:00",
          "2008-06-30T00:00:00",
          "2008-07-31T00:00:00",
          "2008-08-31T00:00:00",
          "2008-09-30T00:00:00",
          "2008-10-31T00:00:00",
          "2008-11-30T00:00:00",
          "2008-12-31T00:00:00",
          "2009-01-31T00:00:00",
          "2009-02-28T00:00:00",
          "2009-03-31T00:00:00",
          "2009-04-30T00:00:00",
          "2009-05-31T00:00:00",
          "2009-06-30T00:00:00",
          "2009-07-31T00:00:00",
          "2009-08-31T00:00:00",
          "2009-09-30T00:00:00",
          "2009-10-31T00:00:00",
          "2009-11-30T00:00:00",
          "2009-12-31T00:00:00",
          "2010-01-31T00:00:00",
          "2010-02-28T00:00:00",
          "2010-03-31T00:00:00",
          "2010-04-30T00:00:00",
          "2010-05-31T00:00:00",
          "2010-06-30T00:00:00",
          "2010-07-31T00:00:00",
          "2010-08-31T00:00:00",
          "2010-09-30T00:00:00",
          "2010-10-31T00:00:00",
          "2010-11-30T00:00:00",
          "2010-12-31T00:00:00",
          "2011-01-31T00:00:00",
          "2011-02-28T00:00:00",
          "2011-03-31T00:00:00",
          "2011-04-30T00:00:00",
          "2011-05-31T00:00:00",
          "2011-06-30T00:00:00",
          "2011-07-31T00:00:00",
          "2011-08-31T00:00:00",
          "2011-09-30T00:00:00",
          "2011-10-31T00:00:00",
          "2011-11-30T00:00:00",
          "2011-12-31T00:00:00",
          "2012-01-31T00:00:00",
          "2012-02-29T00:00:00",
          "2012-03-31T00:00:00",
          "2012-04-30T00:00:00",
          "2012-05-31T00:00:00",
          "2012-06-30T00:00:00",
          "2012-07-31T00:00:00",
          "2012-08-31T00:00:00",
          "2012-09-30T00:00:00",
          "2012-10-31T00:00:00",
          "2012-11-30T00:00:00",
          "2012-12-31T00:00:00",
          "2013-01-31T00:00:00",
          "2013-02-28T00:00:00",
          "2013-03-31T00:00:00",
          "2013-04-30T00:00:00",
          "2013-05-31T00:00:00",
          "2013-06-30T00:00:00",
          "2013-07-31T00:00:00",
          "2013-08-31T00:00:00",
          "2013-09-30T00:00:00",
          "2013-10-31T00:00:00",
          "2013-11-30T00:00:00",
          "2013-12-31T00:00:00",
          "2014-01-31T00:00:00",
          "2014-02-28T00:00:00",
          "2014-03-31T00:00:00",
          "2014-04-30T00:00:00",
          "2014-05-31T00:00:00",
          "2014-06-30T00:00:00",
          "2014-07-31T00:00:00",
          "2014-08-31T00:00:00",
          "2014-09-30T00:00:00",
          "2014-10-31T00:00:00",
          "2014-11-30T00:00:00",
          "2014-12-31T00:00:00",
          "2015-01-31T00:00:00",
          "2015-02-28T00:00:00",
          "2015-03-31T00:00:00",
          "2015-04-30T00:00:00",
          "2015-05-31T00:00:00",
          "2015-06-30T00:00:00",
          "2015-07-31T00:00:00",
          "2015-08-31T00:00:00",
          "2015-09-30T00:00:00",
          "2015-10-31T00:00:00",
          "2015-11-30T00:00:00",
          "2015-12-31T00:00:00",
          "2016-01-31T00:00:00",
          "2016-02-29T00:00:00",
          "2016-03-31T00:00:00",
          "2016-04-30T00:00:00",
          "2016-05-31T00:00:00",
          "2016-06-30T00:00:00",
          "2016-07-31T00:00:00",
          "2016-08-31T00:00:00",
          "2016-09-30T00:00:00",
          "2016-10-31T00:00:00",
          "2016-11-30T00:00:00",
          "2016-12-31T00:00:00",
          "2017-01-31T00:00:00",
          "2017-02-28T00:00:00",
          "2017-03-31T00:00:00",
          "2017-04-30T00:00:00",
          "2017-05-31T00:00:00",
          "2017-06-30T00:00:00",
          "2017-07-31T00:00:00",
          "2017-08-31T00:00:00",
          "2017-09-30T00:00:00",
          "2017-10-31T00:00:00",
          "2017-11-30T00:00:00",
          "2017-12-31T00:00:00",
          "2018-01-31T00:00:00",
          "2018-02-28T00:00:00",
          "2018-03-31T00:00:00",
          "2018-04-30T00:00:00",
          "2018-05-31T00:00:00",
          "2018-06-30T00:00:00",
          "2018-07-31T00:00:00",
          "2018-08-31T00:00:00",
          "2018-09-30T00:00:00",
          "2018-10-31T00:00:00",
          "2018-11-30T00:00:00",
          "2018-12-31T00:00:00",
          "2019-01-31T00:00:00",
          "2019-02-28T00:00:00",
          "2019-03-31T00:00:00",
          "2019-04-30T00:00:00",
          "2019-05-31T00:00:00",
          "2019-06-30T00:00:00",
          "2019-07-31T00:00:00",
          "2019-08-31T00:00:00",
          "2019-09-30T00:00:00",
          "2019-10-31T00:00:00",
          "2019-11-30T00:00:00",
          "2019-12-31T00:00:00"
         ],
         "xaxis": "x",
         "y": [
          -0.29062169790267944,
          -0.8093734979629517,
          1.9562517404556274,
          6.5281243324279785,
          10.068756103515625,
          13.925007820129395,
          13.440630912780762,
          13.337506294250488,
          11.918755531311035,
          7.575005531311035,
          3.7562592029571533,
          -0.16249339282512665,
          -3.3999924659729004,
          0.34063276648521423,
          3.8468775749206543,
          7.134383201599121,
          10.603127479553223,
          12.490632057189941,
          14.281255722045898,
          13.17813491821289,
          11.662508010864258,
          7.743758678436279,
          2.3343756198883057,
          -1.3062400817871094,
          -2.3468682765960693,
          -2.321866273880005,
          5.2062554359436035,
          7.500006198883057,
          8.987503051757812,
          12.893754005432129,
          13.421884536743164,
          13.081254005432129,
          12.04687786102295,
          7.540629863739014,
          2.212507486343384,
          -1.596871018409729,
          -0.5874937176704407,
          0.3812544345855713,
          1.7531318664550781,
          6.162505626678467,
          10.143757820129395,
          13.081254959106445,
          14.387499809265137,
          13.634379386901855,
          11.381258010864258,
          8.328131675720215,
          3.256253480911255,
          0.1250065565109253,
          -1.0437495708465576,
          -1.4031206369400024,
          4.146881103515625,
          6.58125114440918,
          10.821883201599121,
          13.725005149841309,
          14.162504196166992,
          13.7312593460083,
          12.965630531311035,
          7.6093854904174805,
          1.8843814134597778,
          -0.2999969720840454,
          -3.4343669414520264,
          -0.4781157970428467,
          3.9312586784362793,
          7.200010776519775,
          12.54688835144043,
          14.625008583068848,
          14.031253814697266,
          13.2937593460083,
          12.37501335144043,
          8.57812786102295,
          2.550008535385132,
          -0.18123860657215118,
          -0.8968691825866699,
          -1.26249361038208,
          4.571876525878906,
          7.278132438659668,
          11.356256484985352,
          12.253132820129395,
          14.121881484985352,
          13.196879386901855,
          11.775007247924805,
          8.106254577636719,
          3.737506151199341,
          -0.3531185984611511,
          -2.8187386989593506,
          -1.3968700170516968,
          3.5000040531158447,
          5.462506294250488,
          9.653132438659668,
          12.987504005432129,
          14.03750991821289,
          13.631258010864258,
          11.421880722045898,
          5.634385108947754,
          2.6718835830688477,
          -1.2531174421310425,
          -1.4218701124191284,
          0.06250272691249847,
          2.406252861022949,
          7.212504863739014,
          11.806260108947754,
          14.909378051757812,
          13.987509727478027,
          13.71876049041748,
          12.74062728881836,
          9.784382820129395,
          4.415621757507324,
          0.025002839043736458,
          -1.7281228303909302,
          1.4343808889389038,
          5.200008392333984,
          9.090631484985352,
          11.440635681152344,
          13.606255531311035,
          13.734382629394531,
          13.328125953674316,
          12.231261253356934,
          8.171878814697266,
          4.181253910064697,
          0.3187568187713623,
          -1.6312501430511475,
          -1.5468645095825195,
          2.3031349182128906,
          7.521876335144043,
          10.759376525878906,
          13.353130340576172,
          14.021883010864258,
          13.615629196166992,
          11.546875953674316,
          8.446883201599121,
          4.253129005432129,
          0.4281262755393982,
          -0.19686700403690338,
          1.2312586307525635,
          2.862499237060547,
          6.903130531311035,
          10.28125286102295,
          12.618758201599121,
          14.206259727478027,
          13.91250991821289,
          12.89687728881836,
          8.821877479553223,
          4.062504291534424,
          0.4874989092350006,
          -2.1374948024749756,
          0.600005030632019,
          3.9875102043151855,
          7.712505340576172,
          10.531255722045898,
          13.787505149841309,
          14.66249942779541,
          13.787508010864258,
          11.781258583068848,
          7.5312604904174805,
          3.609380006790161,
          0.8031315803527832,
          -1.2812442779541016,
          -0.7406161427497864,
          3.1093811988830566,
          8.168761253356934,
          9.818754196166992,
          13.559383392333984,
          14.012506484985352,
          14.559381484985352,
          12.678130149841309,
          8.906257629394531,
          4.471878528594971,
          0.05625702068209648,
          -2.1062419414520264,
          -0.18124046921730042,
          6.228132247924805,
          8.07813549041748,
          11.6375093460083,
          12.931259155273438,
          13.531257629394531,
          14.018756866455078,
          13.087505340576172,
          7.331258296966553,
          2.3718786239624023,
          1.3375086784362793,
          -0.8499982357025146,
          0.5750041007995605,
          4.821877956390381,
          7.309385299682617,
          9.862505912780762,
          14.278130531311035,
          14.281261444091797,
          14.371878623962402,
          12.787505149841309,
          8.09688949584961,
          3.693758249282837,
          0.1500025987625122,
          1.0625038146972656,
          2.8593835830688477,
          3.8031318187713623,
          6.8406291007995605,
          11.00625991821289,
          13.831254959106445,
          14.650002479553223,
          14.009382247924805,
          12.593758583068848,
          8.043754577636719,
          3.925008773803711,
          1.4937540292739868,
          -0.009369532577693462,
          -1.0437495708465576,
          4.231252193450928,
          8.359383583068848,
          11.759383201599121,
          13.437508583068848,
          14.321874618530273,
          14.290629386901855,
          12.965633392333984,
          9.503130912780762,
          3.71875262260437,
          1.1656314134597778,
          -0.18436506390571594,
          -0.9406158328056335,
          4.2875142097473145,
          8.031250953674316,
          10.803132057189941,
          12.778131484985352,
          13.531261444091797,
          13.556257247924805,
          12.343755722045898,
          7.678127288818359,
          4.240633010864258,
          1.5656373500823975,
          0.5593799948692322,
          1.3656353950500488,
          4.21562385559082,
          9.118754386901855,
          10.475008010864258,
          14.278130531311035,
          15.100007057189941,
          14.393756866455078,
          12.69688606262207,
          8.853129386901855,
          4.712508201599121,
          0.9156328439712524,
          -1.6218693256378174,
          0.271878719329834,
          5.796880722045898,
          9.550004005432129,
          11.356260299682617,
          14.60937786102295,
          15.328130722045898,
          14.525002479553223,
          12.921884536743164,
          8.912505149841309,
          5.250003337860107,
          -0.12187207490205765,
          -1.4374964237213135,
          -0.18124116957187653,
          4.246877193450928,
          7.043758869171143,
          10.890624046325684,
          12.987507820129395,
          14.165621757507324,
          13.675005912780762,
          12.84376049041748,
          7.871880054473877,
          3.615631103515625,
          1.6406335830688477,
          -3.024988889694214,
          -0.19999295473098755,
          3.965632677078247,
          7.31875467300415,
          11.431257247924805,
          15.121880531311035,
          14.140630722045898,
          14.14063549041748,
          12.534378051757812,
          7.112510681152344,
          2.659379005432129,
          0.5343789458274841,
          -1.8343714475631714,
          -0.4312484860420227,
          3.853130340576172,
          7.306257247924805,
          11.303135871887207,
          13.828130722045898,
          14.456259727478027,
          13.80626106262207,
          12.240625381469727,
          7.834376811981201,
          2.77813458442688,
          -0.08437183499336243,
          -1.481241226196289,
          -0.6312422752380371,
          3.1562533378601074,
          7.734382629394531,
          11.181256294250488,
          14.334388732910156,
          14.381257057189941,
          13.75625228881836,
          12.221882820129395,
          7.6187567710876465,
          3.3687567710876465,
          0.16563399136066437,
          -1.8874925374984741,
          -0.7531157732009888,
          3.118757963180542,
          6.259383201599121,
          11.143753051757812,
          14.075006484985352,
          14.271883010864258,
          13.93750286102295,
          12.465628623962402,
          8.062501907348633,
          3.4593794345855713,
          -0.46561190485954285,
          -2.55936598777771,
          0.987509548664093,
          4.293754577636719,
          8.050006866455078,
          10.462509155273438,
          13.787510871887207,
          14.159374237060547,
          14.409379005432129,
          12.571877479553223,
          8.987509727478027,
          3.8468828201293945,
          1.846880555152893,
          -1.3531217575073242,
          0.343753457069397,
          2.7843785285949707,
          7.415632247924805,
          10.709381103515625,
          13.665632247924805,
          14.362509727478027,
          14.334381103515625,
          12.9187593460083,
          8.600008010864258,
          3.809379816055298,
          1.2437540292739868,
          -1.631246566772461,
          0.6625027656555176,
          3.5937581062316895,
          6.668752193450928,
          10.237505912780762,
          14.003129959106445,
          14.481253623962402,
          14.118756294250488,
          12.859391212463379,
          6.8906331062316895,
          2.950000762939453,
          -0.7749925255775452,
          -1.9124926328659058,
          -0.499988317489624,
          2.571880340576172,
          7.478131294250488,
          11.156257629394531,
          14.300004959106445,
          14.334378242492676,
          14.337504386901855,
          12.556252479553223,
          7.840631484985352,
          4.506255149841309,
          -1.5281167030334473
         ],
         "yaxis": "y"
        }
       ],
       "layout": {
        "legend": {
         "tracegroupgap": 0
        },
        "margin": {
         "t": 60
        },
        "template": {
         "data": {
          "bar": [
           {
            "error_x": {
             "color": "#2a3f5f"
            },
            "error_y": {
             "color": "#2a3f5f"
            },
            "marker": {
             "line": {
              "color": "#E5ECF6",
              "width": 0.5
             },
             "pattern": {
              "fillmode": "overlay",
              "size": 10,
              "solidity": 0.2
             }
            },
            "type": "bar"
           }
          ],
          "barpolar": [
           {
            "marker": {
             "line": {
              "color": "#E5ECF6",
              "width": 0.5
             },
             "pattern": {
              "fillmode": "overlay",
              "size": 10,
              "solidity": 0.2
             }
            },
            "type": "barpolar"
           }
          ],
          "carpet": [
           {
            "aaxis": {
             "endlinecolor": "#2a3f5f",
             "gridcolor": "white",
             "linecolor": "white",
             "minorgridcolor": "white",
             "startlinecolor": "#2a3f5f"
            },
            "baxis": {
             "endlinecolor": "#2a3f5f",
             "gridcolor": "white",
             "linecolor": "white",
             "minorgridcolor": "white",
             "startlinecolor": "#2a3f5f"
            },
            "type": "carpet"
           }
          ],
          "choropleth": [
           {
            "colorbar": {
             "outlinewidth": 0,
             "ticks": ""
            },
            "type": "choropleth"
           }
          ],
          "contour": [
           {
            "colorbar": {
             "outlinewidth": 0,
             "ticks": ""
            },
            "colorscale": [
             [
              0,
              "#0d0887"
             ],
             [
              0.1111111111111111,
              "#46039f"
             ],
             [
              0.2222222222222222,
              "#7201a8"
             ],
             [
              0.3333333333333333,
              "#9c179e"
             ],
             [
              0.4444444444444444,
              "#bd3786"
             ],
             [
              0.5555555555555556,
              "#d8576b"
             ],
             [
              0.6666666666666666,
              "#ed7953"
             ],
             [
              0.7777777777777778,
              "#fb9f3a"
             ],
             [
              0.8888888888888888,
              "#fdca26"
             ],
             [
              1,
              "#f0f921"
             ]
            ],
            "type": "contour"
           }
          ],
          "contourcarpet": [
           {
            "colorbar": {
             "outlinewidth": 0,
             "ticks": ""
            },
            "type": "contourcarpet"
           }
          ],
          "heatmap": [
           {
            "colorbar": {
             "outlinewidth": 0,
             "ticks": ""
            },
            "colorscale": [
             [
              0,
              "#0d0887"
             ],
             [
              0.1111111111111111,
              "#46039f"
             ],
             [
              0.2222222222222222,
              "#7201a8"
             ],
             [
              0.3333333333333333,
              "#9c179e"
             ],
             [
              0.4444444444444444,
              "#bd3786"
             ],
             [
              0.5555555555555556,
              "#d8576b"
             ],
             [
              0.6666666666666666,
              "#ed7953"
             ],
             [
              0.7777777777777778,
              "#fb9f3a"
             ],
             [
              0.8888888888888888,
              "#fdca26"
             ],
             [
              1,
              "#f0f921"
             ]
            ],
            "type": "heatmap"
           }
          ],
          "heatmapgl": [
           {
            "colorbar": {
             "outlinewidth": 0,
             "ticks": ""
            },
            "colorscale": [
             [
              0,
              "#0d0887"
             ],
             [
              0.1111111111111111,
              "#46039f"
             ],
             [
              0.2222222222222222,
              "#7201a8"
             ],
             [
              0.3333333333333333,
              "#9c179e"
             ],
             [
              0.4444444444444444,
              "#bd3786"
             ],
             [
              0.5555555555555556,
              "#d8576b"
             ],
             [
              0.6666666666666666,
              "#ed7953"
             ],
             [
              0.7777777777777778,
              "#fb9f3a"
             ],
             [
              0.8888888888888888,
              "#fdca26"
             ],
             [
              1,
              "#f0f921"
             ]
            ],
            "type": "heatmapgl"
           }
          ],
          "histogram": [
           {
            "marker": {
             "pattern": {
              "fillmode": "overlay",
              "size": 10,
              "solidity": 0.2
             }
            },
            "type": "histogram"
           }
          ],
          "histogram2d": [
           {
            "colorbar": {
             "outlinewidth": 0,
             "ticks": ""
            },
            "colorscale": [
             [
              0,
              "#0d0887"
             ],
             [
              0.1111111111111111,
              "#46039f"
             ],
             [
              0.2222222222222222,
              "#7201a8"
             ],
             [
              0.3333333333333333,
              "#9c179e"
             ],
             [
              0.4444444444444444,
              "#bd3786"
             ],
             [
              0.5555555555555556,
              "#d8576b"
             ],
             [
              0.6666666666666666,
              "#ed7953"
             ],
             [
              0.7777777777777778,
              "#fb9f3a"
             ],
             [
              0.8888888888888888,
              "#fdca26"
             ],
             [
              1,
              "#f0f921"
             ]
            ],
            "type": "histogram2d"
           }
          ],
          "histogram2dcontour": [
           {
            "colorbar": {
             "outlinewidth": 0,
             "ticks": ""
            },
            "colorscale": [
             [
              0,
              "#0d0887"
             ],
             [
              0.1111111111111111,
              "#46039f"
             ],
             [
              0.2222222222222222,
              "#7201a8"
             ],
             [
              0.3333333333333333,
              "#9c179e"
             ],
             [
              0.4444444444444444,
              "#bd3786"
             ],
             [
              0.5555555555555556,
              "#d8576b"
             ],
             [
              0.6666666666666666,
              "#ed7953"
             ],
             [
              0.7777777777777778,
              "#fb9f3a"
             ],
             [
              0.8888888888888888,
              "#fdca26"
             ],
             [
              1,
              "#f0f921"
             ]
            ],
            "type": "histogram2dcontour"
           }
          ],
          "mesh3d": [
           {
            "colorbar": {
             "outlinewidth": 0,
             "ticks": ""
            },
            "type": "mesh3d"
           }
          ],
          "parcoords": [
           {
            "line": {
             "colorbar": {
              "outlinewidth": 0,
              "ticks": ""
             }
            },
            "type": "parcoords"
           }
          ],
          "pie": [
           {
            "automargin": true,
            "type": "pie"
           }
          ],
          "scatter": [
           {
            "fillpattern": {
             "fillmode": "overlay",
             "size": 10,
             "solidity": 0.2
            },
            "type": "scatter"
           }
          ],
          "scatter3d": [
           {
            "line": {
             "colorbar": {
              "outlinewidth": 0,
              "ticks": ""
             }
            },
            "marker": {
             "colorbar": {
              "outlinewidth": 0,
              "ticks": ""
             }
            },
            "type": "scatter3d"
           }
          ],
          "scattercarpet": [
           {
            "marker": {
             "colorbar": {
              "outlinewidth": 0,
              "ticks": ""
             }
            },
            "type": "scattercarpet"
           }
          ],
          "scattergeo": [
           {
            "marker": {
             "colorbar": {
              "outlinewidth": 0,
              "ticks": ""
             }
            },
            "type": "scattergeo"
           }
          ],
          "scattergl": [
           {
            "marker": {
             "colorbar": {
              "outlinewidth": 0,
              "ticks": ""
             }
            },
            "type": "scattergl"
           }
          ],
          "scattermapbox": [
           {
            "marker": {
             "colorbar": {
              "outlinewidth": 0,
              "ticks": ""
             }
            },
            "type": "scattermapbox"
           }
          ],
          "scatterpolar": [
           {
            "marker": {
             "colorbar": {
              "outlinewidth": 0,
              "ticks": ""
             }
            },
            "type": "scatterpolar"
           }
          ],
          "scatterpolargl": [
           {
            "marker": {
             "colorbar": {
              "outlinewidth": 0,
              "ticks": ""
             }
            },
            "type": "scatterpolargl"
           }
          ],
          "scatterternary": [
           {
            "marker": {
             "colorbar": {
              "outlinewidth": 0,
              "ticks": ""
             }
            },
            "type": "scatterternary"
           }
          ],
          "surface": [
           {
            "colorbar": {
             "outlinewidth": 0,
             "ticks": ""
            },
            "colorscale": [
             [
              0,
              "#0d0887"
             ],
             [
              0.1111111111111111,
              "#46039f"
             ],
             [
              0.2222222222222222,
              "#7201a8"
             ],
             [
              0.3333333333333333,
              "#9c179e"
             ],
             [
              0.4444444444444444,
              "#bd3786"
             ],
             [
              0.5555555555555556,
              "#d8576b"
             ],
             [
              0.6666666666666666,
              "#ed7953"
             ],
             [
              0.7777777777777778,
              "#fb9f3a"
             ],
             [
              0.8888888888888888,
              "#fdca26"
             ],
             [
              1,
              "#f0f921"
             ]
            ],
            "type": "surface"
           }
          ],
          "table": [
           {
            "cells": {
             "fill": {
              "color": "#EBF0F8"
             },
             "line": {
              "color": "white"
             }
            },
            "header": {
             "fill": {
              "color": "#C8D4E3"
             },
             "line": {
              "color": "white"
             }
            },
            "type": "table"
           }
          ]
         },
         "layout": {
          "annotationdefaults": {
           "arrowcolor": "#2a3f5f",
           "arrowhead": 0,
           "arrowwidth": 1
          },
          "autotypenumbers": "strict",
          "coloraxis": {
           "colorbar": {
            "outlinewidth": 0,
            "ticks": ""
           }
          },
          "colorscale": {
           "diverging": [
            [
             0,
             "#8e0152"
            ],
            [
             0.1,
             "#c51b7d"
            ],
            [
             0.2,
             "#de77ae"
            ],
            [
             0.3,
             "#f1b6da"
            ],
            [
             0.4,
             "#fde0ef"
            ],
            [
             0.5,
             "#f7f7f7"
            ],
            [
             0.6,
             "#e6f5d0"
            ],
            [
             0.7,
             "#b8e186"
            ],
            [
             0.8,
             "#7fbc41"
            ],
            [
             0.9,
             "#4d9221"
            ],
            [
             1,
             "#276419"
            ]
           ],
           "sequential": [
            [
             0,
             "#0d0887"
            ],
            [
             0.1111111111111111,
             "#46039f"
            ],
            [
             0.2222222222222222,
             "#7201a8"
            ],
            [
             0.3333333333333333,
             "#9c179e"
            ],
            [
             0.4444444444444444,
             "#bd3786"
            ],
            [
             0.5555555555555556,
             "#d8576b"
            ],
            [
             0.6666666666666666,
             "#ed7953"
            ],
            [
             0.7777777777777778,
             "#fb9f3a"
            ],
            [
             0.8888888888888888,
             "#fdca26"
            ],
            [
             1,
             "#f0f921"
            ]
           ],
           "sequentialminus": [
            [
             0,
             "#0d0887"
            ],
            [
             0.1111111111111111,
             "#46039f"
            ],
            [
             0.2222222222222222,
             "#7201a8"
            ],
            [
             0.3333333333333333,
             "#9c179e"
            ],
            [
             0.4444444444444444,
             "#bd3786"
            ],
            [
             0.5555555555555556,
             "#d8576b"
            ],
            [
             0.6666666666666666,
             "#ed7953"
            ],
            [
             0.7777777777777778,
             "#fb9f3a"
            ],
            [
             0.8888888888888888,
             "#fdca26"
            ],
            [
             1,
             "#f0f921"
            ]
           ]
          },
          "colorway": [
           "#636efa",
           "#EF553B",
           "#00cc96",
           "#ab63fa",
           "#FFA15A",
           "#19d3f3",
           "#FF6692",
           "#B6E880",
           "#FF97FF",
           "#FECB52"
          ],
          "font": {
           "color": "#2a3f5f"
          },
          "geo": {
           "bgcolor": "white",
           "lakecolor": "white",
           "landcolor": "#E5ECF6",
           "showlakes": true,
           "showland": true,
           "subunitcolor": "white"
          },
          "hoverlabel": {
           "align": "left"
          },
          "hovermode": "closest",
          "mapbox": {
           "style": "light"
          },
          "paper_bgcolor": "white",
          "plot_bgcolor": "#E5ECF6",
          "polar": {
           "angularaxis": {
            "gridcolor": "white",
            "linecolor": "white",
            "ticks": ""
           },
           "bgcolor": "#E5ECF6",
           "radialaxis": {
            "gridcolor": "white",
            "linecolor": "white",
            "ticks": ""
           }
          },
          "scene": {
           "xaxis": {
            "backgroundcolor": "#E5ECF6",
            "gridcolor": "white",
            "gridwidth": 2,
            "linecolor": "white",
            "showbackground": true,
            "ticks": "",
            "zerolinecolor": "white"
           },
           "yaxis": {
            "backgroundcolor": "#E5ECF6",
            "gridcolor": "white",
            "gridwidth": 2,
            "linecolor": "white",
            "showbackground": true,
            "ticks": "",
            "zerolinecolor": "white"
           },
           "zaxis": {
            "backgroundcolor": "#E5ECF6",
            "gridcolor": "white",
            "gridwidth": 2,
            "linecolor": "white",
            "showbackground": true,
            "ticks": "",
            "zerolinecolor": "white"
           }
          },
          "shapedefaults": {
           "line": {
            "color": "#2a3f5f"
           }
          },
          "ternary": {
           "aaxis": {
            "gridcolor": "white",
            "linecolor": "white",
            "ticks": ""
           },
           "baxis": {
            "gridcolor": "white",
            "linecolor": "white",
            "ticks": ""
           },
           "bgcolor": "#E5ECF6",
           "caxis": {
            "gridcolor": "white",
            "linecolor": "white",
            "ticks": ""
           }
          },
          "title": {
           "x": 0.05
          },
          "xaxis": {
           "automargin": true,
           "gridcolor": "white",
           "linecolor": "white",
           "ticks": "",
           "title": {
            "standoff": 15
           },
           "zerolinecolor": "white",
           "zerolinewidth": 2
          },
          "yaxis": {
           "automargin": true,
           "gridcolor": "white",
           "linecolor": "white",
           "ticks": "",
           "title": {
            "standoff": 15
           },
           "zerolinecolor": "white",
           "zerolinewidth": 2
          }
         }
        },
        "xaxis": {
         "anchor": "y",
         "domain": [
          0,
          1
         ],
         "title": {
          "text": "x"
         }
        },
        "yaxis": {
         "anchor": "x",
         "domain": [
          0,
          1
         ],
         "title": {
          "text": "y"
         }
        }
       }
      }
     },
     "metadata": {},
     "output_type": "display_data"
    }
   ],
   "source": [
    "plot_timeseries(monthly_mean_temp)"
   ]
  },
  {
   "cell_type": "code",
   "execution_count": 40,
   "metadata": {},
   "outputs": [],
   "source": [
    "# Make timeseries to a pandas dataframe\n",
    "def ts_to_df(ds):\n",
    "    return ds.to_dataframe()"
   ]
  },
  {
   "cell_type": "code",
   "execution_count": 121,
   "metadata": {},
   "outputs": [],
   "source": [
    "temp_ts_mean_df = ts_to_df(monthly_mean_temp)"
   ]
  },
  {
   "cell_type": "code",
   "execution_count": 44,
   "metadata": {},
   "outputs": [],
   "source": [
    "# Analyze the timeseries for stationarity\n",
    "def stationary( ts, window=12, cutoff=0.01):\n",
    "    #Determing rolling statistics\n",
    "    rolmean = ts.rolling(window=window).mean()\n",
    "    rolstd = ts.rolling(window=window).std()\n",
    "\n",
    "    #Plot rolling statistics:\n",
    "    orig = plt.plot(ts, color='blue',label='Original')\n",
    "    mean = plt.plot(rolmean, color='red', label='Rolling Mean')\n",
    "    std = plt.plot(rolstd, color='black', label = 'Rolling Std')\n",
    "    plt.legend(loc='best')\n",
    "    plt.title('Rolling Mean & Standard Deviation')\n",
    "    plt.show(block=False)\n",
    "    \n",
    "    #Perform Dickey-Fuller test:\n",
    "    print('Results of Dickey-Fuller Test:')\n",
    "    dftest = sm.tsa.stattools.adfuller(ts, autolag='AIC')\n",
    "    dfoutput = pd.Series(dftest[0:4], index=['Test Statistic','p-value','#Lags Used','Number of Observations Used'])\n",
    "    for key,value in dftest[4].items():\n",
    "        dfoutput['Critical Value (%s)'%key] = value\n",
    "    print(dfoutput)\n",
    "    \n",
    "    if dfoutput['p-value'] < cutoff:\n",
    "        print('The series is likely stationary.')\n",
    "    else:\n",
    "        print('The series is likely non-stationary.')"
   ]
  },
  {
   "cell_type": "code",
   "execution_count": 45,
   "metadata": {},
   "outputs": [
    {
     "data": {
      "image/png": "[encoded data removed]",
      "text/plain": [
       "<Figure size 640x480 with 1 Axes>"
      ]
     },
     "metadata": {},
     "output_type": "display_data"
    },
    {
     "name": "stdout",
     "output_type": "stream",
     "text": [
      "Results of Dickey-Fuller Test:\n",
      "Test Statistic                  -2.878254\n",
      "p-value                          0.047936\n",
      "#Lags Used                      15.000000\n",
      "Number of Observations Used    344.000000\n",
      "Critical Value (1%)             -3.449503\n",
      "Critical Value (5%)             -2.869979\n",
      "Critical Value (10%)            -2.571266\n",
      "dtype: float64\n",
      "The series is likely non-stationary.\n"
     ]
    }
   ],
   "source": [
    "stationary(temp_ts_mean_df)"
   ]
  },
  {
   "cell_type": "code",
   "execution_count": 115,
   "metadata": {},
   "outputs": [],
   "source": [
    "snowpack_ts = get_mean_timeseries(snowpack_ds)[:-2]"
   ]
  },
  {
   "cell_type": "code",
   "execution_count": 117,
   "metadata": {},
   "outputs": [],
   "source": [
    "snowpack_ts_mean_df = ts_to_df(snowpack_ts)"
   ]
  },
  {
   "cell_type": "code",
   "execution_count": 118,
   "metadata": {},
   "outputs": [
    {
     "data": {
      "image/png": "[encoded data removed]",
      "text/plain": [
       "<Figure size 640x480 with 1 Axes>"
      ]
     },
     "metadata": {},
     "output_type": "display_data"
    },
    {
     "name": "stdout",
     "output_type": "stream",
     "text": [
      "Results of Dickey-Fuller Test:\n",
      "Test Statistic                 -1.615507\n",
      "p-value                         0.475086\n",
      "#Lags Used                      9.000000\n",
      "Number of Observations Used    19.000000\n",
      "Critical Value (1%)            -3.832603\n",
      "Critical Value (5%)            -3.031227\n",
      "Critical Value (10%)           -2.655520\n",
      "dtype: float64\n",
      "The series is likely non-stationary.\n"
     ]
    }
   ],
   "source": [
    "stationary(snowpack_ts_mean_df)"
   ]
  },
  {
   "cell_type": "code",
   "execution_count": 127,
   "metadata": {},
   "outputs": [],
   "source": [
    "# Remove seasonality from the dataframe timeseries\n",
    "def remove_seasonality(ds):\n",
    "    return ds - ds.rolling(12).mean()"
   ]
  },
  {
   "cell_type": "code",
   "execution_count": 136,
   "metadata": {},
   "outputs": [],
   "source": [
    "#remove nans from dataframe\n",
    "def remove_nans(ds):\n",
    "    return ds.dropna()"
   ]
  },
  {
   "cell_type": "code",
   "execution_count": 137,
   "metadata": {},
   "outputs": [],
   "source": [
    "temp_ts_mean_df = remove_nans(temp_ts_mean_df)"
   ]
  },
  {
   "cell_type": "code",
   "execution_count": null,
   "metadata": {},
   "outputs": [],
   "source": [
    "# Variables:\n",
    "# precip_subset\n",
    "# temp_subset\n",
    "# swdown_subset\n",
    "# wind_subset\n",
    "# hpa_subset\n",
    "# rel_hum_subset\n",
    "# snowf_subset\n",
    "# rainf_subset"
   ]
  },
  {
   "cell_type": "code",
   "execution_count": 149,
   "metadata": {},
   "outputs": [],
   "source": [
    "# Make a pandas dataframe of all the subsetted variables\n",
    "def make_df(precip, temp, swdown, wind, hpa, rh, snowf, rainf):\n",
    "    df = pd.DataFrame({'Precipitation': precip, 'Temperature': temp, 'Shortwave Down': swdown, 'Wind': wind, 'Pressure': hpa, 'Relative Humidity': rh, 'Snowfall': snowf, 'Rainfall': rainf})\n",
    "    return df"
   ]
  },
  {
   "cell_type": "code",
   "execution_count": 160,
   "metadata": {},
   "outputs": [],
   "source": [
    "subset_df = make_df(precip_subset.values, temp_subset.values, swdown_subset.SWdown.values, \n",
    "                    wind_subset.Wind.values, hpa_subset.values, rel_hum_subset.RH.values, \n",
    "                    snowf_subset.values, rainf_subset.values)"
   ]
  },
  {
   "cell_type": "code",
   "execution_count": null,
   "metadata": {},
   "outputs": [],
   "source": [
    "# Write a script that make a correlation matrix plot of the variables\n",
    "def correlation_matrix(df):\n",
    "    corr = df.corr()\n",
    "    sns.heatmap(corr, \n",
    "            xticklabels=corr.columns,\n",
    "            yticklabels=corr.columns)\n",
    "    plt.show()"
   ]
  },
  {
   "cell_type": "code",
   "execution_count": null,
   "metadata": {},
   "outputs": [],
   "source": [
    "correlation_matrix(subset_df)"
   ]
  },
  {
   "cell_type": "code",
   "execution_count": null,
   "metadata": {},
   "outputs": [],
   "source": []
  }
 ],
 "metadata": {
  "kernelspec": {
   "display_name": "geohyd",
   "language": "python",
   "name": "python3"
  },
  "language_info": {
   "codemirror_mode": {
    "name": "ipython",
    "version": 3
   },
   "file_extension": ".py",
   "mimetype": "text/x-python",
   "name": "python",
   "nbconvert_exporter": "python",
   "pygments_lexer": "ipython3",
   "version": "3.10.4"
  },
  "orig_nbformat": 4,
  "vscode": {
   "interpreter": {
    "hash": "b869024099f15872fcd4e15ccfb76c4e0e11665f80101cb27bb68f928ec91781"
   }
  }
 },
 "nbformat": 4,
 "nbformat_minor": 2
}
