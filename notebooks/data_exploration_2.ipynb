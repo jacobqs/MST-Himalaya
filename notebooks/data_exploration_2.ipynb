{
 "cells": [
  {
   "cell_type": "code",
   "execution_count": 40,
   "metadata": {},
   "outputs": [],
   "source": [
    "import matplotlib.pyplot as plt\n",
    "import pandas as pd\n",
    "import geopandas as gpd\n",
    "import netCDF4 as nc\n",
    "import numpy as np\n",
    "from pyproj import Proj, Transformer, CRS\n",
    "from pyproj.aoi import AreaOfInterest\n",
    "from pyproj.database import query_utm_crs_info\n",
    "import plotly as py\n",
    "from plotly.graph_objs import *\n",
    "from scipy.io import netcdf\n",
    "from mpl_toolkits.basemap import Basemap\n",
    "import plotly.express as px\n",
    "import plotly.graph_objects as go\n",
    "from metpy.calc import relative_humidity_from_specific_humidity\n",
    "from metpy.units import units\n",
    "\n",
    "from utils import GeoTsObject"
   ]
  },
  {
   "cell_type": "code",
   "execution_count": 3,
   "metadata": {},
   "outputs": [],
   "source": [
    "geo_ts = GeoTsObject()"
   ]
  },
  {
   "cell_type": "code",
   "execution_count": 4,
   "metadata": {},
   "outputs": [],
   "source": [
    "dataset = geo_ts.read_netcdf(as_dataframe=False)\n"
   ]
  },
  {
   "cell_type": "code",
   "execution_count": 24,
   "metadata": {},
   "outputs": [],
   "source": [
    "# Save data as datasets\n",
    "temp = dataset['temperature']\n",
    "psurf = dataset['pressure']\n",
    "wind = dataset['wind_speed']\n",
    "qair = dataset['specific_humidity']\n",
    "rainfall = dataset['rainfall_flux']\n",
    "snowfall = dataset['snowfall_flux']\n",
    "radiation = dataset['shortwave_down']"
   ]
  },
  {
   "cell_type": "code",
   "execution_count": 48,
   "metadata": {},
   "outputs": [],
   "source": [
    "# Rasample to daily for efficiency\n",
    "temp_m = temp.resample(time = 'M').mean()\n",
    "psurf_m = psurf.resample(time = 'M').mean()\n",
    "wind_m = wind.resample(time = 'M').mean()\n",
    "qair_m = qair.resample(time = 'M').mean()\n",
    "rainfall_m = rainfall.resample(time = 'M').mean()\n",
    "snowfall_m = snowfall.resample(time = 'M').mean()\n",
    "radiation_m = radiation.resample(time = 'M').mean()"
   ]
  },
  {
   "cell_type": "code",
   "execution_count": 56,
   "metadata": {},
   "outputs": [],
   "source": [
    "# Conversions\n",
    "temp_m = temp_m.update(\n",
    "    {'temp_degc': (('time', 'lat', 'lon'), temp_m.Tair.data - 273.15)})\n",
    "precip_m = rainfall_m.update(\n",
    "    {'precip': (('time', 'lat', 'lon'), (rainfall_m.Rainf.data + snowfall_m.Snowf.data) * 3600)})\n",
    "psurf_m = psurf_m.update(\n",
    "    {'psurf_hpa': (('time', 'lat', 'lon'), psurf_m.PSurf.data * 0.01)})\n",
    "\n",
    "rel_hum_values = relative_humidity_from_specific_humidity(psurf_m.psurf_hpa.values * 0.01* units.hPa, \n",
    "                                                            temp_m.temp_degc.values * units.degC, \n",
    "                                                            qair_m.Qair.values).to('percent').magnitude"
   ]
  },
  {
   "cell_type": "code",
   "execution_count": 62,
   "metadata": {},
   "outputs": [
    {
     "data": {
      "text/plain": [
       "array([[[       nan,        nan,        nan, ..., -1067.6   ,\n",
       "         -1068.1001, -1068.4995],\n",
       "        [       nan,        nan,        nan, ..., -1068.4001,\n",
       "         -1068.8999, -1068.9001],\n",
       "        [       nan,        nan,        nan, ..., -1068.5002,\n",
       "         -1068.7002, -1068.7998],\n",
       "        ...,\n",
       "        [-1090.3   , -1090.3   , -1090.3997, ..., -1099.2999,\n",
       "         -1099.5002, -1099.5   ],\n",
       "        [-1090.7999, -1091.1   , -1091.1001, ..., -1100.2998,\n",
       "         -1100.4001, -1099.9999],\n",
       "        [-1091.3999, -1091.4998, -1091.5001, ..., -1100.5001,\n",
       "         -1100.7003, -1100.1997]],\n",
       "\n",
       "       [[       nan,        nan,        nan, ..., -1066.0002,\n",
       "         -1066.2999, -1066.7998],\n",
       "        [       nan,        nan,        nan, ..., -1066.6   ,\n",
       "         -1067.2   , -1067.1998],\n",
       "        [       nan,        nan,        nan, ..., -1066.9   ,\n",
       "         -1066.9999, -1067.3002],\n",
       "        ...,\n",
       "        [-1087.    , -1086.8994, -1086.7997, ..., -1096.4995,\n",
       "         -1096.7003, -1096.8002],\n",
       "        [-1087.7   , -1087.6997, -1087.6002, ..., -1097.2001,\n",
       "         -1097.7002, -1097.2001],\n",
       "        [-1088.2998, -1087.9001, -1087.7003, ..., -1097.3002,\n",
       "         -1097.4998, -1097.1   ]],\n",
       "\n",
       "       [[       nan,        nan,        nan, ..., -1064.3998,\n",
       "         -1064.7   , -1064.9999],\n",
       "        [       nan,        nan,        nan, ..., -1064.9998,\n",
       "         -1065.5001, -1065.4001],\n",
       "        [       nan,        nan,        nan, ..., -1065.2004,\n",
       "         -1065.3   , -1065.6002],\n",
       "        ...,\n",
       "        [-1081.2998, -1081.0996, -1081.2   , ..., -1089.1002,\n",
       "         -1089.2004, -1089.2   ],\n",
       "        [-1081.3   , -1081.8002, -1081.7001, ..., -1089.4001,\n",
       "         -1090.0996, -1089.4003],\n",
       "        [-1081.7002, -1081.5   , -1081.3999, ..., -1089.1998,\n",
       "         -1089.4001, -1088.7997]],\n",
       "\n",
       "       ...,\n",
       "\n",
       "       [[       nan,        nan,        nan, ..., -1064.5001,\n",
       "         -1064.7998, -1065.2003],\n",
       "        [       nan,        nan,        nan, ..., -1064.8002,\n",
       "         -1065.2999, -1065.3999],\n",
       "        [       nan,        nan,        nan, ..., -1064.6005,\n",
       "         -1064.7001, -1064.9   ],\n",
       "        ...,\n",
       "        [-1074.6002, -1074.7001, -1074.8003, ..., -1084.1001,\n",
       "         -1084.2001, -1084.2   ],\n",
       "        [-1075.2002, -1075.2999, -1075.2997, ..., -1084.2997,\n",
       "         -1084.8999, -1084.2003],\n",
       "        [-1075.6001, -1075.6002, -1075.5002, ..., -1083.7999,\n",
       "         -1084.1   , -1083.2997]],\n",
       "\n",
       "       [[       nan,        nan,        nan, ..., -1066.4999,\n",
       "         -1066.8   , -1067.3999],\n",
       "        [       nan,        nan,        nan, ..., -1066.8998,\n",
       "         -1067.4999, -1067.7999],\n",
       "        [       nan,        nan,        nan, ..., -1066.7001,\n",
       "         -1066.8999, -1067.1001],\n",
       "        ...,\n",
       "        [-1085.9005, -1086.0001, -1085.7999, ..., -1090.8   ,\n",
       "         -1091.0001, -1091.1   ],\n",
       "        [-1086.7001, -1086.7   , -1086.3999, ..., -1091.3003,\n",
       "         -1092.1002, -1091.6005],\n",
       "        [-1087.2004, -1087.0999, -1087.1   , ..., -1091.2999,\n",
       "         -1091.7999, -1091.2002]],\n",
       "\n",
       "       [[       nan,        nan,        nan, ..., -1068.8002,\n",
       "         -1069.2997, -1069.7   ],\n",
       "        [       nan,        nan,        nan, ..., -1069.5004,\n",
       "         -1070.1003, -1070.1998],\n",
       "        [       nan,        nan,        nan, ..., -1069.6   ,\n",
       "         -1069.7001, -1069.8002],\n",
       "        ...,\n",
       "        [-1085.1   , -1085.1002, -1085.0001, ..., -1097.9998,\n",
       "         -1098.2   , -1098.1996],\n",
       "        [-1085.6997, -1085.7999, -1085.9998, ..., -1098.6002,\n",
       "         -1099.    , -1098.6002],\n",
       "        [-1086.2997, -1086.2999, -1086.2999, ..., -1098.7999,\n",
       "         -1098.8002, -1097.8997]]], dtype=float32)"
      ]
     },
     "execution_count": 62,
     "metadata": {},
     "output_type": "execute_result"
    }
   ],
   "source": [
    "temp_m.temp_degc.values"
   ]
  },
  {
   "cell_type": "code",
   "execution_count": null,
   "metadata": {},
   "outputs": [],
   "source": []
  }
 ],
 "metadata": {
  "kernelspec": {
   "display_name": "geohyd",
   "language": "python",
   "name": "python3"
  },
  "language_info": {
   "codemirror_mode": {
    "name": "ipython",
    "version": 3
   },
   "file_extension": ".py",
   "mimetype": "text/x-python",
   "name": "python",
   "nbconvert_exporter": "python",
   "pygments_lexer": "ipython3",
   "version": "3.10.4"
  },
  "orig_nbformat": 4,
  "vscode": {
   "interpreter": {
    "hash": "b869024099f15872fcd4e15ccfb76c4e0e11665f80101cb27bb68f928ec91781"
   }
  }
 },
 "nbformat": 4,
 "nbformat_minor": 2
}
