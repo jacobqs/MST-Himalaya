{
 "cells": [
  {
   "cell_type": "code",
   "execution_count": 2,
   "metadata": {},
   "outputs": [],
   "source": [
    "import matplotlib.pyplot as plt\n",
    "import pandas as pd\n",
    "import geopandas as gpd\n",
    "import netCDF4 as nc\n",
    "import numpy as np\n",
    "from pyproj import Proj, Transformer, CRS\n",
    "from pyproj.aoi import AreaOfInterest\n",
    "from pyproj.database import query_utm_crs_info\n",
    "import plotly as py\n",
    "from plotly.graph_objs import *\n",
    "from scipy.io import netcdf\n",
    "from mpl_toolkits.basemap import Basemap\n",
    "import plotly.express as px\n",
    "import plotly.graph_objects as go\n",
    "from metpy.calc import relative_humidity_from_specific_humidity\n",
    "from metpy.units import units\n",
    "import xarray as xr\n",
    "\n",
    "from utils import GeoTsObject"
   ]
  },
  {
   "cell_type": "code",
   "execution_count": 3,
   "metadata": {},
   "outputs": [],
   "source": [
    "geo_ts = GeoTsObject()"
   ]
  },
  {
   "cell_type": "code",
   "execution_count": 4,
   "metadata": {},
   "outputs": [],
   "source": [
    "dataset = geo_ts.read_netcdf(as_dataframe=False)\n"
   ]
  },
  {
   "cell_type": "code",
   "execution_count": 6,
   "metadata": {},
   "outputs": [],
   "source": [
    "# Save data as datasets\n",
    "temp = dataset['temperature'].sel(time = slice(\"2000-01-01\", \"2015-12-31 23:00\"))\n",
    "psurf = dataset['pressure'].sel(time = slice(\"2000-01-01\", \"2015-12-31 23:00\"))\n",
    "wind = dataset['wind_speed'].sel(time = slice(\"2000-01-01\", \"2015-12-31 23:00\"))\n",
    "qair = dataset['specific_humidity'].sel(time = slice(\"2000-01-01\", \"2015-12-31 23:00\"))\n",
    "rainfall = dataset['rainfall_flux'].sel(time = slice(\"2000-01-01\", \"2015-12-31 23:00\"))\n",
    "snowfall = dataset['snowfall_flux'].sel(time = slice(\"2000-01-01\", \"2015-12-31 23:00\"))\n",
    "radiation = dataset['shortwave_down'].sel(time = slice(\"2000-01-01\", \"2015-12-31 23:00\"))"
   ]
  },
  {
   "cell_type": "code",
   "execution_count": 7,
   "metadata": {},
   "outputs": [],
   "source": [
    "# Conversions (see MetPy). \n",
    "\n",
    "precip = rainfall.assign(Precip = (rainfall.Rainf + snowfall.Snowf) * 3600)\n",
    "psurf = psurf.assign(PSurf_hpa = psurf.PSurf * 0.01)\n",
    "\n",
    "# Alternative to MetPy. Order matters here, don't change\n",
    "\n",
    "# g_0 = 2.8365744*10**3\n",
    "# g_1 = 6.028076559*10**3\n",
    "# g_2 = 1.954263612*10\n",
    "# g_3 = -2.737830188*10**-2\n",
    "# g_4 = 1.6261698*10**-5\n",
    "# g_5 = 7.0229056*10**-10\n",
    "# g_6 = -1.8680009*10*-13\n",
    "# g_7 = 2.7150305\n",
    "\n",
    "\n",
    "# qair = qair.assign(Sat_vap_pres = pow(np.exp, (np.sum(g_0*temp.Tair + g_1*temp.Tair + g_2*temp.Tair + g_3*temp.Tair + g_4*temp.Tair +\n",
    "#                                             g_5*temp.Tair + g_6*temp.Tair) + g_7* np.log(temp.Tair))))\n",
    "\n",
    "# qair = qair.assign(Mixing_ratio = 0.622 * qair.Sat_vap_pres/ (psurf.PSurf_hpa - qair.Sat_vap_pres))\n",
    "\n",
    "# rel_hum = qair.assign(Rel_hum = qair.Qair / ((1 - qair.Qair)* qair.Mixing_ratio))\n",
    "\n",
    "temp = temp.assign(Tair_degc = temp.Tair - 273.15)\n",
    "\n",
    "\n",
    "rel_hum = qair.assign(Rel_hum = relative_humidity_from_specific_humidity(\n",
    "                        psurf.PSurf_hpa.values * units.hPa, \n",
    "                        temp.Tair_degc.values * units.degC, \n",
    "                        qair.Qair.values).to('percent').magnitude)"
   ]
  },
  {
   "cell_type": "code",
   "execution_count": 38,
   "metadata": {},
   "outputs": [
    {
     "ename": "KeyboardInterrupt",
     "evalue": "",
     "output_type": "error",
     "traceback": [
      "\u001b[0;31m---------------------------------------------------------------------------\u001b[0m",
      "\u001b[0;31mKeyboardInterrupt\u001b[0m                         Traceback (most recent call last)",
      "Cell \u001b[0;32mIn[38], line 1\u001b[0m\n\u001b[0;32m----> 1\u001b[0m rel_hum\u001b[39m.\u001b[39;49mRel_hum\u001b[39m.\u001b[39;49misel(time\u001b[39m=\u001b[39;49m\u001b[39m1\u001b[39;49m)\u001b[39m.\u001b[39;49mplot()\n",
      "File \u001b[0;32m~/opt/miniconda3/envs/geohyd/lib/python3.10/site-packages/xarray/plot/plot.py:868\u001b[0m, in \u001b[0;36m_PlotMethods.__call__\u001b[0;34m(self, **kwargs)\u001b[0m\n\u001b[1;32m    867\u001b[0m \u001b[39mdef\u001b[39;00m \u001b[39m__call__\u001b[39m(\u001b[39mself\u001b[39m, \u001b[39m*\u001b[39m\u001b[39m*\u001b[39mkwargs):\n\u001b[0;32m--> 868\u001b[0m     \u001b[39mreturn\u001b[39;00m plot(\u001b[39mself\u001b[39;49m\u001b[39m.\u001b[39;49m_da, \u001b[39m*\u001b[39;49m\u001b[39m*\u001b[39;49mkwargs)\n",
      "File \u001b[0;32m~/opt/miniconda3/envs/geohyd/lib/python3.10/site-packages/xarray/plot/plot.py:297\u001b[0m, in \u001b[0;36mplot\u001b[0;34m(darray, row, col, col_wrap, ax, hue, rtol, subplot_kws, **kwargs)\u001b[0m\n\u001b[1;32m    246\u001b[0m \u001b[39mdef\u001b[39;00m \u001b[39mplot\u001b[39m(\n\u001b[1;32m    247\u001b[0m     darray,\n\u001b[1;32m    248\u001b[0m     row\u001b[39m=\u001b[39m\u001b[39mNone\u001b[39;00m,\n\u001b[0;32m   (...)\u001b[0m\n\u001b[1;32m    255\u001b[0m     \u001b[39m*\u001b[39m\u001b[39m*\u001b[39mkwargs,\n\u001b[1;32m    256\u001b[0m ):\n\u001b[1;32m    257\u001b[0m \u001b[39m    \u001b[39m\u001b[39m\"\"\"\u001b[39;00m\n\u001b[1;32m    258\u001b[0m \u001b[39m    Default plot of DataArray using :py:mod:`matplotlib:matplotlib.pyplot`.\u001b[39;00m\n\u001b[1;32m    259\u001b[0m \n\u001b[0;32m   (...)\u001b[0m\n\u001b[1;32m    295\u001b[0m \u001b[39m    xarray.DataArray.squeeze\u001b[39;00m\n\u001b[1;32m    296\u001b[0m \u001b[39m    \"\"\"\u001b[39;00m\n\u001b[0;32m--> 297\u001b[0m     darray \u001b[39m=\u001b[39m darray\u001b[39m.\u001b[39;49msqueeze()\u001b[39m.\u001b[39;49mcompute()\n\u001b[1;32m    299\u001b[0m     plot_dims \u001b[39m=\u001b[39m \u001b[39mset\u001b[39m(darray\u001b[39m.\u001b[39mdims)\n\u001b[1;32m    300\u001b[0m     plot_dims\u001b[39m.\u001b[39mdiscard(row)\n",
      "File \u001b[0;32m~/opt/miniconda3/envs/geohyd/lib/python3.10/site-packages/xarray/core/dataarray.py:993\u001b[0m, in \u001b[0;36mDataArray.compute\u001b[0;34m(self, **kwargs)\u001b[0m\n\u001b[1;32m    974\u001b[0m \u001b[39m\u001b[39m\u001b[39m\"\"\"Manually trigger loading of this array's data from disk or a\u001b[39;00m\n\u001b[1;32m    975\u001b[0m \u001b[39mremote source into memory and return a new array. The original is\u001b[39;00m\n\u001b[1;32m    976\u001b[0m \u001b[39mleft unaltered.\u001b[39;00m\n\u001b[0;32m   (...)\u001b[0m\n\u001b[1;32m    990\u001b[0m \u001b[39mdask.compute\u001b[39;00m\n\u001b[1;32m    991\u001b[0m \u001b[39m\"\"\"\u001b[39;00m\n\u001b[1;32m    992\u001b[0m new \u001b[39m=\u001b[39m \u001b[39mself\u001b[39m\u001b[39m.\u001b[39mcopy(deep\u001b[39m=\u001b[39m\u001b[39mFalse\u001b[39;00m)\n\u001b[0;32m--> 993\u001b[0m \u001b[39mreturn\u001b[39;00m new\u001b[39m.\u001b[39;49mload(\u001b[39m*\u001b[39;49m\u001b[39m*\u001b[39;49mkwargs)\n",
      "File \u001b[0;32m~/opt/miniconda3/envs/geohyd/lib/python3.10/site-packages/xarray/core/dataarray.py:967\u001b[0m, in \u001b[0;36mDataArray.load\u001b[0;34m(self, **kwargs)\u001b[0m\n\u001b[1;32m    949\u001b[0m \u001b[39mdef\u001b[39;00m \u001b[39mload\u001b[39m(\u001b[39mself\u001b[39m: T_DataArray, \u001b[39m*\u001b[39m\u001b[39m*\u001b[39mkwargs) \u001b[39m-\u001b[39m\u001b[39m>\u001b[39m T_DataArray:\n\u001b[1;32m    950\u001b[0m \u001b[39m    \u001b[39m\u001b[39m\"\"\"Manually trigger loading of this array's data from disk or a\u001b[39;00m\n\u001b[1;32m    951\u001b[0m \u001b[39m    remote source into memory and return this array.\u001b[39;00m\n\u001b[1;32m    952\u001b[0m \n\u001b[0;32m   (...)\u001b[0m\n\u001b[1;32m    965\u001b[0m \u001b[39m    dask.compute\u001b[39;00m\n\u001b[1;32m    966\u001b[0m \u001b[39m    \"\"\"\u001b[39;00m\n\u001b[0;32m--> 967\u001b[0m     ds \u001b[39m=\u001b[39m \u001b[39mself\u001b[39;49m\u001b[39m.\u001b[39;49m_to_temp_dataset()\u001b[39m.\u001b[39;49mload(\u001b[39m*\u001b[39;49m\u001b[39m*\u001b[39;49mkwargs)\n\u001b[1;32m    968\u001b[0m     new \u001b[39m=\u001b[39m \u001b[39mself\u001b[39m\u001b[39m.\u001b[39m_from_temp_dataset(ds)\n\u001b[1;32m    969\u001b[0m     \u001b[39mself\u001b[39m\u001b[39m.\u001b[39m_variable \u001b[39m=\u001b[39m new\u001b[39m.\u001b[39m_variable\n",
      "File \u001b[0;32m~/opt/miniconda3/envs/geohyd/lib/python3.10/site-packages/xarray/core/dataset.py:733\u001b[0m, in \u001b[0;36mDataset.load\u001b[0;34m(self, **kwargs)\u001b[0m\n\u001b[1;32m    730\u001b[0m \u001b[39mimport\u001b[39;00m \u001b[39mdask\u001b[39;00m\u001b[39m.\u001b[39;00m\u001b[39marray\u001b[39;00m \u001b[39mas\u001b[39;00m \u001b[39mda\u001b[39;00m\n\u001b[1;32m    732\u001b[0m \u001b[39m# evaluate all the dask arrays simultaneously\u001b[39;00m\n\u001b[0;32m--> 733\u001b[0m evaluated_data \u001b[39m=\u001b[39m da\u001b[39m.\u001b[39;49mcompute(\u001b[39m*\u001b[39;49mlazy_data\u001b[39m.\u001b[39;49mvalues(), \u001b[39m*\u001b[39;49m\u001b[39m*\u001b[39;49mkwargs)\n\u001b[1;32m    735\u001b[0m \u001b[39mfor\u001b[39;00m k, data \u001b[39min\u001b[39;00m \u001b[39mzip\u001b[39m(lazy_data, evaluated_data):\n\u001b[1;32m    736\u001b[0m     \u001b[39mself\u001b[39m\u001b[39m.\u001b[39mvariables[k]\u001b[39m.\u001b[39mdata \u001b[39m=\u001b[39m data\n",
      "File \u001b[0;32m~/opt/miniconda3/envs/geohyd/lib/python3.10/site-packages/dask/base.py:600\u001b[0m, in \u001b[0;36mcompute\u001b[0;34m(traverse, optimize_graph, scheduler, get, *args, **kwargs)\u001b[0m\n\u001b[1;32m    597\u001b[0m     keys\u001b[39m.\u001b[39mappend(x\u001b[39m.\u001b[39m__dask_keys__())\n\u001b[1;32m    598\u001b[0m     postcomputes\u001b[39m.\u001b[39mappend(x\u001b[39m.\u001b[39m__dask_postcompute__())\n\u001b[0;32m--> 600\u001b[0m results \u001b[39m=\u001b[39m schedule(dsk, keys, \u001b[39m*\u001b[39;49m\u001b[39m*\u001b[39;49mkwargs)\n\u001b[1;32m    601\u001b[0m \u001b[39mreturn\u001b[39;00m repack([f(r, \u001b[39m*\u001b[39ma) \u001b[39mfor\u001b[39;00m r, (f, a) \u001b[39min\u001b[39;00m \u001b[39mzip\u001b[39m(results, postcomputes)])\n",
      "File \u001b[0;32m~/opt/miniconda3/envs/geohyd/lib/python3.10/site-packages/dask/threaded.py:89\u001b[0m, in \u001b[0;36mget\u001b[0;34m(dsk, keys, cache, num_workers, pool, **kwargs)\u001b[0m\n\u001b[1;32m     86\u001b[0m     \u001b[39melif\u001b[39;00m \u001b[39misinstance\u001b[39m(pool, multiprocessing\u001b[39m.\u001b[39mpool\u001b[39m.\u001b[39mPool):\n\u001b[1;32m     87\u001b[0m         pool \u001b[39m=\u001b[39m MultiprocessingPoolExecutor(pool)\n\u001b[0;32m---> 89\u001b[0m results \u001b[39m=\u001b[39m get_async(\n\u001b[1;32m     90\u001b[0m     pool\u001b[39m.\u001b[39;49msubmit,\n\u001b[1;32m     91\u001b[0m     pool\u001b[39m.\u001b[39;49m_max_workers,\n\u001b[1;32m     92\u001b[0m     dsk,\n\u001b[1;32m     93\u001b[0m     keys,\n\u001b[1;32m     94\u001b[0m     cache\u001b[39m=\u001b[39;49mcache,\n\u001b[1;32m     95\u001b[0m     get_id\u001b[39m=\u001b[39;49m_thread_get_id,\n\u001b[1;32m     96\u001b[0m     pack_exception\u001b[39m=\u001b[39;49mpack_exception,\n\u001b[1;32m     97\u001b[0m     \u001b[39m*\u001b[39;49m\u001b[39m*\u001b[39;49mkwargs,\n\u001b[1;32m     98\u001b[0m )\n\u001b[1;32m    100\u001b[0m \u001b[39m# Cleanup pools associated to dead threads\u001b[39;00m\n\u001b[1;32m    101\u001b[0m \u001b[39mwith\u001b[39;00m pools_lock:\n",
      "File \u001b[0;32m~/opt/miniconda3/envs/geohyd/lib/python3.10/site-packages/dask/local.py:500\u001b[0m, in \u001b[0;36mget_async\u001b[0;34m(submit, num_workers, dsk, result, cache, get_id, rerun_exceptions_locally, pack_exception, raise_exception, callbacks, dumps, loads, chunksize, **kwargs)\u001b[0m\n\u001b[1;32m    498\u001b[0m \u001b[39mwhile\u001b[39;00m state[\u001b[39m\"\u001b[39m\u001b[39mwaiting\u001b[39m\u001b[39m\"\u001b[39m] \u001b[39mor\u001b[39;00m state[\u001b[39m\"\u001b[39m\u001b[39mready\u001b[39m\u001b[39m\"\u001b[39m] \u001b[39mor\u001b[39;00m state[\u001b[39m\"\u001b[39m\u001b[39mrunning\u001b[39m\u001b[39m\"\u001b[39m]:\n\u001b[1;32m    499\u001b[0m     fire_tasks(chunksize)\n\u001b[0;32m--> 500\u001b[0m     \u001b[39mfor\u001b[39;00m key, res_info, failed \u001b[39min\u001b[39;00m queue_get(queue)\u001b[39m.\u001b[39mresult():\n\u001b[1;32m    501\u001b[0m         \u001b[39mif\u001b[39;00m failed:\n\u001b[1;32m    502\u001b[0m             exc, tb \u001b[39m=\u001b[39m loads(res_info)\n",
      "File \u001b[0;32m~/opt/miniconda3/envs/geohyd/lib/python3.10/site-packages/dask/local.py:137\u001b[0m, in \u001b[0;36mqueue_get\u001b[0;34m(q)\u001b[0m\n\u001b[1;32m    136\u001b[0m \u001b[39mdef\u001b[39;00m \u001b[39mqueue_get\u001b[39m(q):\n\u001b[0;32m--> 137\u001b[0m     \u001b[39mreturn\u001b[39;00m q\u001b[39m.\u001b[39;49mget()\n",
      "File \u001b[0;32m~/opt/miniconda3/envs/geohyd/lib/python3.10/queue.py:171\u001b[0m, in \u001b[0;36mQueue.get\u001b[0;34m(self, block, timeout)\u001b[0m\n\u001b[1;32m    169\u001b[0m \u001b[39melif\u001b[39;00m timeout \u001b[39mis\u001b[39;00m \u001b[39mNone\u001b[39;00m:\n\u001b[1;32m    170\u001b[0m     \u001b[39mwhile\u001b[39;00m \u001b[39mnot\u001b[39;00m \u001b[39mself\u001b[39m\u001b[39m.\u001b[39m_qsize():\n\u001b[0;32m--> 171\u001b[0m         \u001b[39mself\u001b[39;49m\u001b[39m.\u001b[39;49mnot_empty\u001b[39m.\u001b[39;49mwait()\n\u001b[1;32m    172\u001b[0m \u001b[39melif\u001b[39;00m timeout \u001b[39m<\u001b[39m \u001b[39m0\u001b[39m:\n\u001b[1;32m    173\u001b[0m     \u001b[39mraise\u001b[39;00m \u001b[39mValueError\u001b[39;00m(\u001b[39m\"\u001b[39m\u001b[39m'\u001b[39m\u001b[39mtimeout\u001b[39m\u001b[39m'\u001b[39m\u001b[39m must be a non-negative number\u001b[39m\u001b[39m\"\u001b[39m)\n",
      "File \u001b[0;32m~/opt/miniconda3/envs/geohyd/lib/python3.10/threading.py:320\u001b[0m, in \u001b[0;36mCondition.wait\u001b[0;34m(self, timeout)\u001b[0m\n\u001b[1;32m    318\u001b[0m \u001b[39mtry\u001b[39;00m:    \u001b[39m# restore state no matter what (e.g., KeyboardInterrupt)\u001b[39;00m\n\u001b[1;32m    319\u001b[0m     \u001b[39mif\u001b[39;00m timeout \u001b[39mis\u001b[39;00m \u001b[39mNone\u001b[39;00m:\n\u001b[0;32m--> 320\u001b[0m         waiter\u001b[39m.\u001b[39;49macquire()\n\u001b[1;32m    321\u001b[0m         gotit \u001b[39m=\u001b[39m \u001b[39mTrue\u001b[39;00m\n\u001b[1;32m    322\u001b[0m     \u001b[39melse\u001b[39;00m:\n",
      "\u001b[0;31mKeyboardInterrupt\u001b[0m: "
     ]
    }
   ],
   "source": [
    "rel_hum.Rel_hum.isel(time=1).plot()"
   ]
  },
  {
   "cell_type": "code",
   "execution_count": 5,
   "metadata": {},
   "outputs": [
    {
     "ename": "KeyboardInterrupt",
     "evalue": "",
     "output_type": "error",
     "traceback": [
      "\u001b[0;31m---------------------------------------------------------------------------\u001b[0m",
      "\u001b[0;31mKeyboardInterrupt\u001b[0m                         Traceback (most recent call last)",
      "Cell \u001b[0;32mIn[5], line 9\u001b[0m\n\u001b[1;32m      4\u001b[0m precip \u001b[39m=\u001b[39m rainfall\u001b[39m.\u001b[39mupdate(\n\u001b[1;32m      5\u001b[0m     {\u001b[39m'\u001b[39m\u001b[39mPrecip\u001b[39m\u001b[39m'\u001b[39m: ((\u001b[39m'\u001b[39m\u001b[39mtime\u001b[39m\u001b[39m'\u001b[39m, \u001b[39m'\u001b[39m\u001b[39mlat\u001b[39m\u001b[39m'\u001b[39m, \u001b[39m'\u001b[39m\u001b[39mlon\u001b[39m\u001b[39m'\u001b[39m), (rainfall\u001b[39m.\u001b[39mRainf\u001b[39m.\u001b[39mdata \u001b[39m+\u001b[39m snowfall\u001b[39m.\u001b[39mSnowf\u001b[39m.\u001b[39mdata) \u001b[39m*\u001b[39m \u001b[39m3600\u001b[39m )})\n\u001b[1;32m      6\u001b[0m psurf \u001b[39m=\u001b[39m psurf\u001b[39m.\u001b[39mupdate(\n\u001b[1;32m      7\u001b[0m     {\u001b[39m'\u001b[39m\u001b[39mPsurf_hpa\u001b[39m\u001b[39m'\u001b[39m: ((\u001b[39m'\u001b[39m\u001b[39mtime\u001b[39m\u001b[39m'\u001b[39m, \u001b[39m'\u001b[39m\u001b[39mlat\u001b[39m\u001b[39m'\u001b[39m, \u001b[39m'\u001b[39m\u001b[39mlon\u001b[39m\u001b[39m'\u001b[39m), psurf\u001b[39m.\u001b[39mPSurf\u001b[39m.\u001b[39mdata \u001b[39m*\u001b[39m \u001b[39m0.01\u001b[39m)})\n\u001b[0;32m----> 9\u001b[0m rel_hum_values \u001b[39m=\u001b[39m relative_humidity_from_specific_humidity(psurf\u001b[39m.\u001b[39;49mPsurf_hpa\u001b[39m.\u001b[39;49mvalues \u001b[39m*\u001b[39;49m units\u001b[39m.\u001b[39;49mhPa, \n\u001b[1;32m     10\u001b[0m                                                             temp\u001b[39m.\u001b[39;49mTemp_degc\u001b[39m.\u001b[39;49mvalues \u001b[39m*\u001b[39;49m units\u001b[39m.\u001b[39;49mdegC, \n\u001b[1;32m     11\u001b[0m                                                             qair\u001b[39m.\u001b[39;49mQair\u001b[39m.\u001b[39;49mvalues)\u001b[39m.\u001b[39mto(\u001b[39m'\u001b[39m\u001b[39mpercent\u001b[39m\u001b[39m'\u001b[39m)\u001b[39m.\u001b[39mmagnitude \n\u001b[1;32m     12\u001b[0m rel_hum \u001b[39m=\u001b[39m qair\u001b[39m.\u001b[39mupdate(\n\u001b[1;32m     13\u001b[0m     {\u001b[39m'\u001b[39m\u001b[39mRel_hum\u001b[39m\u001b[39m'\u001b[39m: ((\u001b[39m'\u001b[39m\u001b[39mtime\u001b[39m\u001b[39m'\u001b[39m, \u001b[39m'\u001b[39m\u001b[39mlat\u001b[39m\u001b[39m'\u001b[39m, \u001b[39m'\u001b[39m\u001b[39mlon\u001b[39m\u001b[39m'\u001b[39m), rel_hum_values \u001b[39m*\u001b[39m \u001b[39m0.01\u001b[39m)})\n",
      "File \u001b[0;32m~/opt/miniconda3/envs/geohyd/lib/python3.10/site-packages/metpy/xarray.py:1329\u001b[0m, in \u001b[0;36mpreprocess_and_wrap.<locals>.decorator.<locals>.wrapper\u001b[0;34m(*args, **kwargs)\u001b[0m\n\u001b[1;32m   1326\u001b[0m     _mutate_arguments(bound_args, units\u001b[39m.\u001b[39mQuantity, \u001b[39mlambda\u001b[39;00m arg, _: arg\u001b[39m.\u001b[39mm)\n\u001b[1;32m   1328\u001b[0m \u001b[39m# Evaluate inner calculation\u001b[39;00m\n\u001b[0;32m-> 1329\u001b[0m result \u001b[39m=\u001b[39m func(\u001b[39m*\u001b[39;49mbound_args\u001b[39m.\u001b[39;49margs, \u001b[39m*\u001b[39;49m\u001b[39m*\u001b[39;49mbound_args\u001b[39m.\u001b[39;49mkwargs)\n\u001b[1;32m   1331\u001b[0m \u001b[39m# Wrap output based on match and match_unit\u001b[39;00m\n\u001b[1;32m   1332\u001b[0m \u001b[39mif\u001b[39;00m match \u001b[39mis\u001b[39;00m \u001b[39mNone\u001b[39;00m:\n",
      "File \u001b[0;32m~/opt/miniconda3/envs/geohyd/lib/python3.10/site-packages/metpy/units.py:320\u001b[0m, in \u001b[0;36mcheck_units.<locals>.dec.<locals>.wrapper\u001b[0;34m(*args, **kwargs)\u001b[0m\n\u001b[1;32m    317\u001b[0m \u001b[39m@functools\u001b[39m\u001b[39m.\u001b[39mwraps(func)\n\u001b[1;32m    318\u001b[0m \u001b[39mdef\u001b[39;00m \u001b[39mwrapper\u001b[39m(\u001b[39m*\u001b[39margs, \u001b[39m*\u001b[39m\u001b[39m*\u001b[39mkwargs):\n\u001b[1;32m    319\u001b[0m     _check_units_inner_helper(func, sig, defaults, dims, \u001b[39m*\u001b[39margs, \u001b[39m*\u001b[39m\u001b[39m*\u001b[39mkwargs)\n\u001b[0;32m--> 320\u001b[0m     \u001b[39mreturn\u001b[39;00m func(\u001b[39m*\u001b[39;49margs, \u001b[39m*\u001b[39;49m\u001b[39m*\u001b[39;49mkwargs)\n",
      "File \u001b[0;32m~/opt/miniconda3/envs/geohyd/lib/python3.10/site-packages/metpy/calc/thermo.py:2175\u001b[0m, in \u001b[0;36mrelative_humidity_from_specific_humidity\u001b[0;34m(pressure, temperature, specific_humidity)\u001b[0m\n\u001b[1;32m   2123\u001b[0m \u001b[39m@exporter\u001b[39m\u001b[39m.\u001b[39mexport\n\u001b[1;32m   2124\u001b[0m \u001b[39m@preprocess_and_wrap\u001b[39m(\n\u001b[1;32m   2125\u001b[0m     wrap_like\u001b[39m=\u001b[39m\u001b[39m'\u001b[39m\u001b[39mtemperature\u001b[39m\u001b[39m'\u001b[39m,\n\u001b[0;32m   (...)\u001b[0m\n\u001b[1;32m   2128\u001b[0m \u001b[39m@check_units\u001b[39m(\u001b[39m'\u001b[39m\u001b[39m[pressure]\u001b[39m\u001b[39m'\u001b[39m, \u001b[39m'\u001b[39m\u001b[39m[temperature]\u001b[39m\u001b[39m'\u001b[39m, \u001b[39m'\u001b[39m\u001b[39m[dimensionless]\u001b[39m\u001b[39m'\u001b[39m)\n\u001b[1;32m   2129\u001b[0m \u001b[39mdef\u001b[39;00m \u001b[39mrelative_humidity_from_specific_humidity\u001b[39m(pressure, temperature, specific_humidity):\n\u001b[1;32m   2130\u001b[0m \u001b[39m    \u001b[39m\u001b[39mr\u001b[39m\u001b[39m\"\"\"Calculate the relative humidity from specific humidity, temperature, and pressure.\u001b[39;00m\n\u001b[1;32m   2131\u001b[0m \n\u001b[1;32m   2132\u001b[0m \u001b[39m    Parameters\u001b[39;00m\n\u001b[0;32m   (...)\u001b[0m\n\u001b[1;32m   2172\u001b[0m \n\u001b[1;32m   2173\u001b[0m \u001b[39m    \"\"\"\u001b[39;00m\n\u001b[1;32m   2174\u001b[0m     \u001b[39mreturn\u001b[39;00m (mixing_ratio_from_specific_humidity(specific_humidity)\n\u001b[0;32m-> 2175\u001b[0m             \u001b[39m/\u001b[39m saturation_mixing_ratio(pressure, temperature))\n",
      "File \u001b[0;32m~/opt/miniconda3/envs/geohyd/lib/python3.10/site-packages/metpy/xarray.py:1329\u001b[0m, in \u001b[0;36mpreprocess_and_wrap.<locals>.decorator.<locals>.wrapper\u001b[0;34m(*args, **kwargs)\u001b[0m\n\u001b[1;32m   1326\u001b[0m     _mutate_arguments(bound_args, units\u001b[39m.\u001b[39mQuantity, \u001b[39mlambda\u001b[39;00m arg, _: arg\u001b[39m.\u001b[39mm)\n\u001b[1;32m   1328\u001b[0m \u001b[39m# Evaluate inner calculation\u001b[39;00m\n\u001b[0;32m-> 1329\u001b[0m result \u001b[39m=\u001b[39m func(\u001b[39m*\u001b[39;49mbound_args\u001b[39m.\u001b[39;49margs, \u001b[39m*\u001b[39;49m\u001b[39m*\u001b[39;49mbound_args\u001b[39m.\u001b[39;49mkwargs)\n\u001b[1;32m   1331\u001b[0m \u001b[39m# Wrap output based on match and match_unit\u001b[39;00m\n\u001b[1;32m   1332\u001b[0m \u001b[39mif\u001b[39;00m match \u001b[39mis\u001b[39;00m \u001b[39mNone\u001b[39;00m:\n",
      "File \u001b[0;32m~/opt/miniconda3/envs/geohyd/lib/python3.10/site-packages/metpy/units.py:376\u001b[0m, in \u001b[0;36mprocess_units.<locals>.dec.<locals>.wrapper\u001b[0;34m(*args, **kwargs)\u001b[0m\n\u001b[1;32m    373\u001b[0m _mutate_arguments(bound_args, units\u001b[39m.\u001b[39mQuantity, \u001b[39mlambda\u001b[39;00m val, _: val\u001b[39m.\u001b[39mto_base_units()\u001b[39m.\u001b[39mm)\n\u001b[1;32m    375\u001b[0m \u001b[39m# Evaluate inner calculation\u001b[39;00m\n\u001b[0;32m--> 376\u001b[0m result \u001b[39m=\u001b[39m func(\u001b[39m*\u001b[39;49mbound_args\u001b[39m.\u001b[39;49margs, \u001b[39m*\u001b[39;49m\u001b[39m*\u001b[39;49mbound_args\u001b[39m.\u001b[39;49mkwargs)\n\u001b[1;32m    378\u001b[0m \u001b[39m# Wrap output\u001b[39;00m\n\u001b[1;32m    379\u001b[0m \u001b[39mif\u001b[39;00m multiple_output:\n",
      "File \u001b[0;32m~/opt/miniconda3/envs/geohyd/lib/python3.10/site-packages/metpy/calc/thermo.py:1491\u001b[0m, in \u001b[0;36msaturation_mixing_ratio\u001b[0;34m(total_press, temperature)\u001b[0m\n\u001b[1;32m   1449\u001b[0m \u001b[39m@exporter\u001b[39m\u001b[39m.\u001b[39mexport\n\u001b[1;32m   1450\u001b[0m \u001b[39m@preprocess_and_wrap\u001b[39m(wrap_like\u001b[39m=\u001b[39m\u001b[39m'\u001b[39m\u001b[39mtemperature\u001b[39m\u001b[39m'\u001b[39m, broadcast\u001b[39m=\u001b[39m(\u001b[39m'\u001b[39m\u001b[39mtotal_press\u001b[39m\u001b[39m'\u001b[39m, \u001b[39m'\u001b[39m\u001b[39mtemperature\u001b[39m\u001b[39m'\u001b[39m))\n\u001b[1;32m   1451\u001b[0m \u001b[39m@process_units\u001b[39m(\n\u001b[0;32m   (...)\u001b[0m\n\u001b[1;32m   1454\u001b[0m )\n\u001b[1;32m   1455\u001b[0m \u001b[39mdef\u001b[39;00m \u001b[39msaturation_mixing_ratio\u001b[39m(total_press, temperature):\n\u001b[1;32m   1456\u001b[0m \u001b[39m    \u001b[39m\u001b[39mr\u001b[39m\u001b[39m\"\"\"Calculate the saturation mixing ratio of water vapor.\u001b[39;00m\n\u001b[1;32m   1457\u001b[0m \n\u001b[1;32m   1458\u001b[0m \u001b[39m    This calculation is given total atmospheric pressure and air temperature.\u001b[39;00m\n\u001b[0;32m   (...)\u001b[0m\n\u001b[1;32m   1489\u001b[0m \n\u001b[1;32m   1490\u001b[0m \u001b[39m    \"\"\"\u001b[39;00m\n\u001b[0;32m-> 1491\u001b[0m     \u001b[39mreturn\u001b[39;00m mixing_ratio\u001b[39m.\u001b[39m_nounit(saturation_vapor_pressure\u001b[39m.\u001b[39;49m_nounit(temperature), total_press)\n",
      "File \u001b[0;32m~/opt/miniconda3/envs/geohyd/lib/python3.10/site-packages/metpy/calc/thermo.py:1301\u001b[0m, in \u001b[0;36msaturation_vapor_pressure\u001b[0;34m(temperature)\u001b[0m\n\u001b[1;32m   1267\u001b[0m \u001b[39m\u001b[39m\u001b[39mr\u001b[39m\u001b[39m\"\"\"Calculate the saturation water vapor (partial) pressure.\u001b[39;00m\n\u001b[1;32m   1268\u001b[0m \n\u001b[1;32m   1269\u001b[0m \u001b[39mParameters\u001b[39;00m\n\u001b[0;32m   (...)\u001b[0m\n\u001b[1;32m   1298\u001b[0m \n\u001b[1;32m   1299\u001b[0m \u001b[39m\"\"\"\u001b[39;00m\n\u001b[1;32m   1300\u001b[0m \u001b[39m# Converted from original in terms of C to use kelvin.\u001b[39;00m\n\u001b[0;32m-> 1301\u001b[0m \u001b[39mreturn\u001b[39;00m mpconsts\u001b[39m.\u001b[39mnounit\u001b[39m.\u001b[39msat_pressure_0c \u001b[39m*\u001b[39m np\u001b[39m.\u001b[39;49mexp(\n\u001b[1;32m   1302\u001b[0m     \u001b[39m17.67\u001b[39;49m \u001b[39m*\u001b[39;49m (temperature \u001b[39m-\u001b[39;49m \u001b[39m273.15\u001b[39;49m) \u001b[39m/\u001b[39;49m (temperature \u001b[39m-\u001b[39;49m \u001b[39m29.65\u001b[39;49m)\n\u001b[1;32m   1303\u001b[0m )\n",
      "\u001b[0;31mKeyboardInterrupt\u001b[0m: "
     ]
    }
   ],
   "source": [
    "# Conversions\n",
    "temp = temp.update(\n",
    "    {'Temp_degc': (('time', 'lat', 'lon'), temp.Tair.data - 273.15)})\n",
    "precip = rainfall.update(\n",
    "    {'Precip': (('time', 'lat', 'lon'), (rainfall.Rainf.data + snowfall.Snowf.data) * 3600 )})\n",
    "psurf = psurf.update(\n",
    "    {'Psurf_hpa': (('time', 'lat', 'lon'), psurf.PSurf.data * 0.01)})\n",
    "\n",
    "rel_hum_values = relative_humidity_from_specific_humidity(psurf.Psurf_hpa.values * units.hPa, \n",
    "                                                            temp.Temp_degc.values * units.degC, \n",
    "                                                            qair.Qair.values).to('percent').magnitude \n",
    "rel_hum = qair.update(\n",
    "    {'Rel_hum': (('time', 'lat', 'lon'), rel_hum_values * 0.01)})"
   ]
  },
  {
   "cell_type": "code",
   "execution_count": 21,
   "metadata": {},
   "outputs": [],
   "source": [
    "# Rasample to daily for efficiency\n",
    "temp_m = temp.resample(time = 'M').mean()\n",
    "psurf_m = psurf.resample(time = 'M').mean()\n",
    "wind_m = wind.resample(time = 'M').mean()\n",
    "qair_m = qair.resample(time = 'M').mean()\n",
    "rainfall_m = rainfall.resample(time = 'M').sum()\n",
    "snowfall_m = snowfall.resample(time = 'M').sum()\n",
    "radiation_m = radiation.resample(time = 'M').mean()"
   ]
  },
  {
   "cell_type": "code",
   "execution_count": 25,
   "metadata": {},
   "outputs": [
    {
     "data": {
      "text/plain": [
       "array([[[0.00000000e+00, 0.00000000e+00, 0.00000000e+00, ...,\n",
       "         2.41448656e-01, 7.07070708e-01, 3.76146841e+00],\n",
       "        [0.00000000e+00, 0.00000000e+00, 0.00000000e+00, ...,\n",
       "         5.44904053e-01, 1.09311736e+00, 3.42451882e+00],\n",
       "        [0.00000000e+00, 0.00000000e+00, 0.00000000e+00, ...,\n",
       "         5.06072819e-01, 2.00000000e+00, 4.69325161e+00],\n",
       "        ...,\n",
       "        [1.22159367e+01, 1.18451958e+01, 1.25663071e+01, ...,\n",
       "         7.99158752e-01, 6.65258765e-01, 0.00000000e+00],\n",
       "        [9.09593773e+00, 8.73152828e+00, 9.68501091e+00, ...,\n",
       "         6.03174627e-01, 1.05319142e+00, 1.86123347e+00],\n",
       "        [9.04057884e+00, 9.40672016e+00, 9.64348030e+00, ...,\n",
       "         6.67420805e-01, 9.09091055e-01, 1.13483155e+00]],\n",
       "\n",
       "       [[0.00000000e+00, 0.00000000e+00, 0.00000000e+00, ...,\n",
       "         7.14395218e+01, 8.83932190e+01, 9.35263824e+01],\n",
       "        [0.00000000e+00, 0.00000000e+00, 0.00000000e+00, ...,\n",
       "         6.46339111e+01, 8.01007004e+01, 9.82021866e+01],\n",
       "        [0.00000000e+00, 0.00000000e+00, 0.00000000e+00, ...,\n",
       "         6.09173508e+01, 7.89756241e+01, 8.93191147e+01],\n",
       "        ...,\n",
       "        [2.10181293e+01, 2.50409355e+01, 2.85699978e+01, ...,\n",
       "         4.13685036e+00, 3.85241199e+00, 3.93097138e+00],\n",
       "        [1.52706575e+01, 1.63669777e+01, 1.94397583e+01, ...,\n",
       "         4.35364246e+00, 3.56807470e+00, 2.04705882e+00],\n",
       "        [1.45784330e+01, 1.48252850e+01, 1.68715458e+01, ...,\n",
       "         4.17875290e+00, 2.67818713e+00, 1.24999976e+00]],\n",
       "\n",
       "       [[0.00000000e+00, 0.00000000e+00, 0.00000000e+00, ...,\n",
       "         1.03086159e+02, 6.49799271e+01, 3.28772621e+01],\n",
       "        [0.00000000e+00, 0.00000000e+00, 0.00000000e+00, ...,\n",
       "         6.94488983e+01, 4.14788742e+01, 2.68181877e+01],\n",
       "        [0.00000000e+00, 0.00000000e+00, 0.00000000e+00, ...,\n",
       "         4.75883026e+01, 4.85410347e+01, 6.02746620e+01],\n",
       "        ...,\n",
       "        [1.06696415e+01, 7.79395390e+00, 4.76614666e+00, ...,\n",
       "         2.40803013e+01, 2.19296932e+01, 2.24835510e+01],\n",
       "        [9.89876461e+00, 8.48314667e+00, 6.03139114e+00, ...,\n",
       "         2.47481461e+01, 2.55149441e+01, 2.71338768e+01],\n",
       "        [9.26470470e+00, 9.02824974e+00, 6.79096174e+00, ...,\n",
       "         2.43308201e+01, 2.19695988e+01, 2.05075436e+01]],\n",
       "\n",
       "       ...,\n",
       "\n",
       "       [[0.00000000e+00, 0.00000000e+00, 0.00000000e+00, ...,\n",
       "         3.04499989e+01, 2.21442909e+01, 1.95577869e+01],\n",
       "        [0.00000000e+00, 0.00000000e+00, 0.00000000e+00, ...,\n",
       "         3.05699978e+01, 2.75376873e+01, 1.17492418e+01],\n",
       "        [0.00000000e+00, 0.00000000e+00, 0.00000000e+00, ...,\n",
       "         3.11634941e+01, 3.75683861e+01, 1.81586990e+01],\n",
       "        ...,\n",
       "        [5.16506863e+00, 5.62572432e+00, 4.99855757e+00, ...,\n",
       "         2.22804928e+01, 2.26679649e+01, 2.31087551e+01],\n",
       "        [3.96166134e+00, 4.33546400e+00, 3.80042458e+00, ...,\n",
       "         1.76157398e+01, 1.90827179e+01, 2.12766438e+01],\n",
       "        [2.41232729e+00, 2.59691095e+00, 2.37145877e+00, ...,\n",
       "         1.69858475e+01, 1.74870396e+01, 1.79854679e+01]],\n",
       "\n",
       "       [[0.00000000e+00, 0.00000000e+00, 0.00000000e+00, ...,\n",
       "         2.42000008e+00, 1.30260503e+00, 1.78068423e+00],\n",
       "        [0.00000000e+00, 0.00000000e+00, 0.00000000e+00, ...,\n",
       "         3.21000051e+00, 1.62134945e+00, 4.16666597e-01],\n",
       "        [0.00000000e+00, 0.00000000e+00, 0.00000000e+00, ...,\n",
       "         1.64979744e+00, 2.17346978e+00, 2.93936276e+00],\n",
       "        ...,\n",
       "        [7.55253315e+00, 8.48489380e+00, 8.44410896e+00, ...,\n",
       "         4.05757523e+00, 3.29663491e+00, 3.25012732e+00],\n",
       "        [4.88335276e+00, 5.37210846e+00, 5.41492176e+00, ...,\n",
       "         2.69307399e+00, 3.27246714e+00, 4.53000689e+00],\n",
       "        [2.96541047e+00, 3.81976819e+00, 5.36530399e+00, ...,\n",
       "         2.37011051e+00, 2.85070252e+00, 3.41250443e+00]],\n",
       "\n",
       "       [[0.00000000e+00, 0.00000000e+00, 0.00000000e+00, ...,\n",
       "         0.00000000e+00, 0.00000000e+00, 0.00000000e+00],\n",
       "        [0.00000000e+00, 0.00000000e+00, 0.00000000e+00, ...,\n",
       "         0.00000000e+00, 1.01936795e-02, 1.63432077e-01],\n",
       "        [0.00000000e+00, 0.00000000e+00, 0.00000000e+00, ...,\n",
       "         2.04498954e-02, 7.15015382e-02, 2.24719107e-01],\n",
       "        ...,\n",
       "        [4.78781271e+00, 4.83170414e+00, 5.54712820e+00, ...,\n",
       "         1.31929064e+00, 1.28923762e+00, 1.67834866e+00],\n",
       "        [1.63952196e+00, 9.32754815e-01, 2.63557529e+00, ...,\n",
       "         1.98999059e+00, 2.81700587e+00, 4.14504147e+00],\n",
       "        [1.95439744e+00, 1.59654796e+00, 1.81525218e+00, ...,\n",
       "         2.54799914e+00, 3.17796040e+00, 5.04802465e+00]]], dtype=float32)"
      ]
     },
     "execution_count": 25,
     "metadata": {},
     "output_type": "execute_result"
    }
   ],
   "source": [
    "precip_m.precip.values"
   ]
  },
  {
   "cell_type": "code",
   "execution_count": null,
   "metadata": {},
   "outputs": [],
   "source": []
  }
 ],
 "metadata": {
  "kernelspec": {
   "display_name": "geohyd",
   "language": "python",
   "name": "python3"
  },
  "language_info": {
   "codemirror_mode": {
    "name": "ipython",
    "version": 3
   },
   "file_extension": ".py",
   "mimetype": "text/x-python",
   "name": "python",
   "nbconvert_exporter": "python",
   "pygments_lexer": "ipython3",
   "version": "3.10.4 | packaged by conda-forge | (main, Mar 24 2022, 17:43:32) [Clang 12.0.1 ]"
  },
  "orig_nbformat": 4,
  "vscode": {
   "interpreter": {
    "hash": "b869024099f15872fcd4e15ccfb76c4e0e11665f80101cb27bb68f928ec91781"
   }
  }
 },
 "nbformat": 4,
 "nbformat_minor": 2
}
