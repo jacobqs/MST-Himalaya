{
 "cells": [
  {
   "cell_type": "code",
   "execution_count": 1,
   "metadata": {},
   "outputs": [],
   "source": [
    "import matplotlib.pyplot as plt\n",
    "import pandas as pd\n",
    "import geopandas as gpd\n",
    "import netCDF4 as nc\n",
    "from netCDF4 import Dataset\n",
    "from pyproj import Proj, Transformer, CRS\n",
    "from pyproj.aoi import AreaOfInterest\n",
    "from pyproj.database import query_utm_crs_info\n",
    "import plotly as py\n",
    "from plotly.graph_objs import *\n",
    "from scipy.io import netcdf\n",
    "from mpl_toolkits.basemap import Basemap\n",
    "import plotly.express as px\n",
    "import plotly.graph_objects as go\n",
    "from metpy.calc import relative_humidity_from_specific_humidity\n",
    "from metpy.units import units\n",
    "import seaborn as sns\n",
    "from osgeo import gdal\n",
    "from shapely.geometry import Point\n",
    "import scipy as sp\n",
    "import rasterio\n",
    "from utils_exploration import *\n",
    "from elevation_point_query import *"
   ]
  },
  {
   "cell_type": "code",
   "execution_count": 2,
   "metadata": {},
   "outputs": [],
   "source": [
    "geo_ts = GeoTsObject()"
   ]
  },
  {
   "cell_type": "code",
   "execution_count": null,
   "metadata": {},
   "outputs": [],
   "source": []
  }
 ],
 "metadata": {
  "kernelspec": {
   "display_name": "geohyd",
   "language": "python",
   "name": "python3"
  },
  "language_info": {
   "codemirror_mode": {
    "name": "ipython",
    "version": 3
   },
   "file_extension": ".py",
   "mimetype": "text/x-python",
   "name": "python",
   "nbconvert_exporter": "python",
   "pygments_lexer": "ipython3",
   "version": "3.10.4"
  },
  "orig_nbformat": 4,
  "vscode": {
   "interpreter": {
    "hash": "b869024099f15872fcd4e15ccfb76c4e0e11665f80101cb27bb68f928ec91781"
   }
  }
 },
 "nbformat": 4,
 "nbformat_minor": 2
}
